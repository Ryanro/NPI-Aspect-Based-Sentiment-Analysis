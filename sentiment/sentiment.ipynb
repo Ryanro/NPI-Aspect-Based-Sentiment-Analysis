{
 "cells": [
  {
   "cell_type": "code",
   "execution_count": 1,
   "metadata": {
    "colab": {
     "base_uri": "https://localhost:8080/",
     "height": 122
    },
    "colab_type": "code",
    "executionInfo": {
     "elapsed": 19527,
     "status": "ok",
     "timestamp": 1591349345862,
     "user": {
      "displayName": "Zechen Li",
      "photoUrl": "",
      "userId": "04932019008574349632"
     },
     "user_tz": 420
    },
    "id": "s3JxYLtFF0R7",
    "outputId": "d8094f3f-5446-40c0-fd20-fd193894226a"
   },
   "outputs": [
    {
     "name": "stdout",
     "output_type": "stream",
     "text": [
      "Go to this URL in a browser: https://accounts.google.com/o/oauth2/auth?client_id=947318989803-6bn6qk8qdgf4n4g3pfee6491hc0brc4i.apps.googleusercontent.com&redirect_uri=urn%3aietf%3awg%3aoauth%3a2.0%3aoob&response_type=code&scope=email%20https%3a%2f%2fwww.googleapis.com%2fauth%2fdocs.test%20https%3a%2f%2fwww.googleapis.com%2fauth%2fdrive%20https%3a%2f%2fwww.googleapis.com%2fauth%2fdrive.photos.readonly%20https%3a%2f%2fwww.googleapis.com%2fauth%2fpeopleapi.readonly\n",
      "\n",
      "Enter your authorization code:\n",
      "··········\n",
      "Mounted at /content/drive\n"
     ]
    }
   ],
   "source": [
    "from google.colab import drive\n",
    "drive.mount('/content/drive')"
   ]
  },
  {
   "cell_type": "code",
   "execution_count": 0,
   "metadata": {
    "colab": {},
    "colab_type": "code",
    "id": "lj3VQqyegSsk"
   },
   "outputs": [],
   "source": [
    "!pip install transformers==2.10.0"
   ]
  },
  {
   "cell_type": "code",
   "execution_count": 0,
   "metadata": {
    "colab": {},
    "colab_type": "code",
    "id": "r24EUZWuF-8U"
   },
   "outputs": [],
   "source": [
    "!pip install simpletransformers"
   ]
  },
  {
   "cell_type": "code",
   "execution_count": 0,
   "metadata": {
    "colab": {},
    "colab_type": "code",
    "id": "NPMbwLi7F__W"
   },
   "outputs": [],
   "source": [
    "!pip install wandb"
   ]
  },
  {
   "cell_type": "code",
   "execution_count": 3,
   "metadata": {
    "colab": {
     "base_uri": "https://localhost:8080/",
     "height": 85
    },
    "colab_type": "code",
    "executionInfo": {
     "elapsed": 22268,
     "status": "ok",
     "timestamp": 1591349370165,
     "user": {
      "displayName": "Zechen Li",
      "photoUrl": "",
      "userId": "04932019008574349632"
     },
     "user_tz": 420
    },
    "id": "QtpUQ0Rl1mn5",
    "outputId": "d1527ecb-a8cf-43c0-9176-1c9c042f2476"
   },
   "outputs": [
    {
     "name": "stdout",
     "output_type": "stream",
     "text": [
      "\u001b[34m\u001b[1mwandb\u001b[0m: You can find your API key in your browser here: https://app.wandb.ai/authorize\n",
      "\u001b[34m\u001b[1mwandb\u001b[0m: Paste an API key from your profile and hit enter: 466ed0b4b2a230df648b8b1636be583c783c283e\n",
      "\u001b[34m\u001b[1mwandb\u001b[0m: Appending key for api.wandb.ai to your netrc file: /root/.netrc\n",
      "\u001b[32mSuccessfully logged in to Weights & Biases!\u001b[0m\n"
     ]
    }
   ],
   "source": [
    "!wandb login"
   ]
  },
  {
   "cell_type": "code",
   "execution_count": 1,
   "metadata": {
    "colab": {
     "base_uri": "https://localhost:8080/",
     "height": 34
    },
    "colab_type": "code",
    "executionInfo": {
     "elapsed": 784,
     "status": "ok",
     "timestamp": 1591357398306,
     "user": {
      "displayName": "Zechen Li",
      "photoUrl": "",
      "userId": "04932019008574349632"
     },
     "user_tz": 420
    },
    "id": "zh6LAW4vTcbH",
    "outputId": "457692a6-1ff1-4f9c-94ea-b23b0c7c9106"
   },
   "outputs": [
    {
     "name": "stdout",
     "output_type": "stream",
     "text": [
      "/content/drive/My Drive/Colab Notebooks/sentiment\n"
     ]
    }
   ],
   "source": [
    "cd \"/content/drive/My Drive/Colab Notebooks/sentiment\""
   ]
  },
  {
   "cell_type": "code",
   "execution_count": 2,
   "metadata": {
    "colab": {
     "base_uri": "https://localhost:8080/",
     "height": 68
    },
    "colab_type": "code",
    "executionInfo": {
     "elapsed": 2391,
     "status": "ok",
     "timestamp": 1591357399923,
     "user": {
      "displayName": "Zechen Li",
      "photoUrl": "",
      "userId": "04932019008574349632"
     },
     "user_tz": 420
    },
    "id": "rVCVYrYeGg9p",
    "outputId": "7536774c-2ece-4aab-fc7b-6574d6fccc8d"
   },
   "outputs": [
    {
     "name": "stdout",
     "output_type": "stream",
     "text": [
      "[nltk_data] Downloading package punkt to /root/nltk_data...\n",
      "[nltk_data]   Package punkt is already up-to-date!\n"
     ]
    },
    {
     "data": {
      "text/plain": [
       "True"
      ]
     },
     "execution_count": 2,
     "metadata": {
      "tags": []
     },
     "output_type": "execute_result"
    }
   ],
   "source": [
    "import nltk\n",
    "nltk.download('punkt')"
   ]
  },
  {
   "cell_type": "code",
   "execution_count": 0,
   "metadata": {
    "colab": {},
    "colab_type": "code",
    "id": "PgEdBLFUGyy1"
   },
   "outputs": [],
   "source": [
    "import pandas as pd\n",
    "import numpy as np\n",
    "from nltk.tokenize import word_tokenize\n",
    "from simpletransformers.classification import ClassificationModel\n",
    "import logging\n",
    "import numpy as np\n",
    "import sklearn\n",
    "import wandb"
   ]
  },
  {
   "cell_type": "code",
   "execution_count": 4,
   "metadata": {
    "colab": {
     "base_uri": "https://localhost:8080/",
     "height": 425
    },
    "colab_type": "code",
    "executionInfo": {
     "elapsed": 10699,
     "status": "ok",
     "timestamp": 1591357408265,
     "user": {
      "displayName": "Zechen Li",
      "photoUrl": "",
      "userId": "04932019008574349632"
     },
     "user_tz": 420
    },
    "id": "lAZl17FtFs7O",
    "outputId": "6e30f97e-4c2c-4f5a-df9a-97d0f14f46c2"
   },
   "outputs": [
    {
     "name": "stdout",
     "output_type": "stream",
     "text": [
      "                                              text_a  ... labels\n",
      "0  Adding household quarantine to isolation of th...  ...      1\n",
      "1  Adding household quarantine to isolation of th...  ...      1\n",
      "2  Adding household quarantine to isolation of th...  ...      1\n",
      "3  Preventing mass gatherings is expected to have...  ...      0\n",
      "4  Preventing mass gatherings is expected to have...  ...      1\n",
      "\n",
      "[5 rows x 3 columns]\n",
      "        text_a  text_b\n",
      "labels                \n",
      "0          141     141\n",
      "1          198     198\n",
      "                                              text_a  ... labels\n",
      "0  Stopping big gatherings can have cascading eff...  ...      1\n",
      "1  Cancellation of gatherings of 250 or more peop...  ...      1\n",
      "2  Compared to social distancing , home quarantin...  ...      0\n",
      "3  Compared to social distancing , home quarantin...  ...      1\n",
      "4  Invoking stopping mass gatherings could come w...  ...      0\n",
      "\n",
      "[5 rows x 3 columns]\n",
      "        text_a  text_b\n",
      "labels                \n",
      "0           40      40\n",
      "1           73      73\n"
     ]
    }
   ],
   "source": [
    "def modify_sentence(raw_sentence):\n",
    "    words = word_tokenize(raw_sentence)\n",
    "    sentence = ' '.join(words)\n",
    "    \n",
    "    return sentence\n",
    "\n",
    "\n",
    "prefix = 'data/'\n",
    "\n",
    "train_data = pd.read_excel(prefix + \"train_data.xlsx\")\n",
    "train_data.columns = ['text_a', 'text_b', 'labels']\n",
    "train_data['text_a'] = train_data['text_a'].apply(lambda x: modify_sentence(x))\n",
    "train_data['text_b'] = train_data['text_b'].apply(lambda x: modify_sentence(x))\n",
    "train_data[\"labels\"].replace({\"positive\": \"1\", \"negative\": \"0\"}, inplace=True)\n",
    "train_data = train_data.astype({\"labels\": int})\n",
    "print(train_data.head(5))\n",
    "print(train_data.groupby('labels').count())\n",
    "\n",
    "\n",
    "eval_data = pd.read_excel(prefix + \"test_data.xlsx\")\n",
    "eval_data.columns = ['text_a', 'text_b', 'labels']\n",
    "eval_data['text_a'] = eval_data['text_a'].apply(lambda x: modify_sentence(x))\n",
    "eval_data['text_b'] = eval_data['text_b'].apply(lambda x: modify_sentence(x))\n",
    "eval_data[\"labels\"].replace({\"positive\": \"1\", \"negative\": \"0\"}, inplace=True)\n",
    "eval_data = eval_data.astype({\"labels\": int})\n",
    "print(eval_data.head(5))\n",
    "print(eval_data.groupby('labels').count())"
   ]
  },
  {
   "cell_type": "code",
   "execution_count": 0,
   "metadata": {
    "colab": {},
    "colab_type": "code",
    "id": "rMxjoWu3Fs7X"
   },
   "outputs": [],
   "source": [
    "logging.basicConfig(level=logging.INFO)\n",
    "transformers_logger = logging.getLogger(\"transformers\")\n",
    "transformers_logger.setLevel(logging.WARNING)\n",
    "\n",
    "train_args={\n",
    "    'fp16': False,\n",
    "    'reprocess_input_data': True,\n",
    "    'overwrite_output_dir': True,\n",
    "    \n",
    "    'evaluate_during_training': True,\n",
    "    'evaluate_during_training_steps': 4,\n",
    "    \"evaluate_during_training_verbose\": True,\n",
    "    'logging_steps':4,\n",
    "    \n",
    "    'num_train_epochs': 5,\n",
    "    \n",
    "    'learning_rate':3.5e-5,\n",
    "    \n",
    "    'train_batch_size':16,\n",
    "    \n",
    "    'warmup_ratio': 0.1, \n",
    "    'warmup_steps':16,\n",
    "\n",
    "    'weight_decay':0.001,\n",
    "\n",
    "    'gradient_accumulation_steps':2,\n",
    "    \n",
    "    \"wandb_project\": \"NPI_sentiment\",\n",
    "    \n",
    "    'save_eval_checkpoints': False,\n",
    "    \"save_model_every_epoch\": False,\n",
    "    \"use_cached_eval_features\": True,\n",
    "    \n",
    "    \"manual_seed\": 1\n",
    "}\n",
    "\n"
   ]
  },
  {
   "cell_type": "code",
   "execution_count": 6,
   "metadata": {
    "colab": {
     "base_uri": "https://localhost:8080/",
     "height": 1000,
     "referenced_widgets": [
      "a12f8f70e91d47769c259f60403f06a0",
      "ebdc4d24e5de4881af255d7a2b8abf03",
      "6adf39f4edfc4b9a91e1eda748121394",
      "d75b352b39fe4fdba79a9401494b66ae",
      "48a0a934178541ef9f9ce33224582b61",
      "7410daa25274477cb444af4e9c363094",
      "cd42c876e3c64d95b75fbedff8a9a152",
      "d9cf8e63cae74d50ad45f75ced93f86e",
      "dd81e27de7a948b0b841056375127c41",
      "d862655c58664d2c9f7c4f223fa7d53c",
      "7fe6cbd3f27543069e66e7330b7f1487",
      "0c6e18ce31d2448fb762eb805bb07f4a",
      "3daae2f083694f33a984762b81316b9f",
      "f7b7044dbd724d5b88c5203f779b0455",
      "38549aced9c5476db0b208408a075e65",
      "eaab0182200341cdabe131076d51cc01",
      "2c32b3b93e0b4ab8afefe3cabc6b211a",
      "65df0de7e4084ef883ebddef762be552",
      "68136147460c43109f32bbba9993f126",
      "829672430edd4abfb755d955f4a0f4b5",
      "61769fc8bc354c3caa5159ab74334bc0",
      "b30d2e6d9719481bb432e359d10ce389",
      "772fa547e7d74c7eacbee37e180f7309",
      "0bf0d5c82e304d25b8a5c8ba01e28095",
      "f2c6ec346a68415981704f9ca909ab8c",
      "280e84e0c24c48d5a1e4a742e5e5950a",
      "8c0b314800f44f17a40bfccf4d89b141",
      "167de78a97b44078ba693691dbd487ae",
      "98047f198afc4f9c8e413d72ec5cb9f0",
      "315f5552305744b782e24c568bffd8ed",
      "ff4e2282ef1c4227a4aa51458d63197c",
      "0a3be80232ee4ec2a76a4a89862161e4",
      "a70198ea9f6e4fdc83b0b1af50db74a5",
      "c0e3f4afd840486d9872222885923503",
      "76f9796430a34bf489842a1a2fb223cb",
      "31b2c7a25c3541f9a7470b6c2e5e54b8",
      "b51b3d42b95f4d3b8809fb95e23682a2",
      "a5be60db419c4509881be8c96ddcc5a4",
      "c839900c001e4e5a99e8ab9d97fa2c8d",
      "2972dad076c64bfd812150ef95093bb9",
      "80ad8ba7a723460594d4fee6ad8db397",
      "ad10621a13574940bfbf6082a753291c",
      "08e006df5b994a11b112c2176734bdb7",
      "ac02de6849804e309f478cefe7c23947",
      "30c53512daa5421a8975037471ce0a83",
      "dc71c536590c40eb95baa70c99ce785d",
      "6e3753c60dde4acd894281eccbd6f9fb",
      "0eef7e0f9da747108df2c5c872ddaad2",
      "2bfeb2aac41f4360b70d657050ee8bd6",
      "b32bb016cf70407f8398cc085e65a288",
      "75cd78123d0b4833bd269009061f5b52",
      "2aefa327c4e74ceea38f5432d465aafe",
      "b7c0ee7789974172b8949113e07a0e21",
      "25ff0ddc48134cf3ad6fd75856538c10",
      "bc4664c269414e198989c3f09572e342",
      "f4b2b9c8360945708bd7c9de25150d03"
     ]
    },
    "colab_type": "code",
    "executionInfo": {
     "elapsed": 1197300,
     "status": "ok",
     "timestamp": 1591358619385,
     "user": {
      "displayName": "Zechen Li",
      "photoUrl": "",
      "userId": "04932019008574349632"
     },
     "user_tz": 420
    },
    "id": "pl3k5qfqFs7c",
    "outputId": "004bade1-6f2b-46af-e631-1ec937053422"
   },
   "outputs": [
    {
     "name": "stderr",
     "output_type": "stream",
     "text": [
      "INFO:simpletransformers.classification.classification_model: Converting to features started. Cache is not used.\n"
     ]
    },
    {
     "data": {
      "application/vnd.jupyter.widget-view+json": {
       "model_id": "a12f8f70e91d47769c259f60403f06a0",
       "version_major": 2,
       "version_minor": 0
      },
      "text/plain": [
       "HBox(children=(FloatProgress(value=0.0, max=339.0), HTML(value='')))"
      ]
     },
     "metadata": {
      "tags": []
     },
     "output_type": "display_data"
    },
    {
     "name": "stdout",
     "output_type": "stream",
     "text": [
      "\n"
     ]
    },
    {
     "data": {
      "application/vnd.jupyter.widget-view+json": {
       "model_id": "dd81e27de7a948b0b841056375127c41",
       "version_major": 2,
       "version_minor": 0
      },
      "text/plain": [
       "HBox(children=(FloatProgress(value=0.0, description='Epoch', max=5.0, style=ProgressStyle(description_width='i…"
      ]
     },
     "metadata": {
      "tags": []
     },
     "output_type": "display_data"
    },
    {
     "data": {
      "text/html": [
       "\n",
       "                Logging results to <a href=\"https://wandb.com\" target=\"_blank\">Weights & Biases</a> <a href=\"https://docs.wandb.com/integrations/jupyter.html\" target=\"_blank\">(Documentation)</a>.<br/>\n",
       "                Project page: <a href=\"https://app.wandb.ai/ryanlee/NPI_sentiment\" target=\"_blank\">https://app.wandb.ai/ryanlee/NPI_sentiment</a><br/>\n",
       "                Run page: <a href=\"https://app.wandb.ai/ryanlee/NPI_sentiment/runs/27trrda7\" target=\"_blank\">https://app.wandb.ai/ryanlee/NPI_sentiment/runs/27trrda7</a><br/>\n",
       "            "
      ],
      "text/plain": [
       "<IPython.core.display.HTML object>"
      ]
     },
     "metadata": {
      "tags": []
     },
     "output_type": "display_data"
    },
    {
     "name": "stderr",
     "output_type": "stream",
     "text": [
      "INFO:wandb.run_manager:system metrics and metadata threads started\n",
      "INFO:wandb.run_manager:checking resume status, waiting at most 10 seconds\n",
      "INFO:wandb.run_manager:resuming run from id: UnVuOnYxOjI3dHJyZGE3Ok5QSV9zZW50aW1lbnQ6cnlhbmxlZQ==\n",
      "INFO:wandb.run_manager:upserting run before process can begin, waiting at most 10 seconds\n",
      "INFO:wandb.run_manager:saving pip packages\n",
      "INFO:wandb.run_manager:initializing streaming files api\n",
      "INFO:wandb.run_manager:unblocking file change observer, beginning sync with W&B servers\n"
     ]
    },
    {
     "data": {
      "application/vnd.jupyter.widget-view+json": {
       "model_id": "2c32b3b93e0b4ab8afefe3cabc6b211a",
       "version_major": 2,
       "version_minor": 0
      },
      "text/plain": [
       "HBox(children=(FloatProgress(value=0.0, description='Current iteration', max=22.0, style=ProgressStyle(descrip…"
      ]
     },
     "metadata": {
      "tags": []
     },
     "output_type": "display_data"
    },
    {
     "name": "stderr",
     "output_type": "stream",
     "text": [
      "INFO:wandb.run_manager:file/dir created: /content/drive/My Drive/Colab Notebooks/sentiment/wandb/run-20200605_114447-27trrda7/requirements.txt\n",
      "INFO:wandb.run_manager:file/dir created: /content/drive/My Drive/Colab Notebooks/sentiment/wandb/run-20200605_114447-27trrda7/wandb-history.jsonl\n",
      "INFO:wandb.run_manager:file/dir created: /content/drive/My Drive/Colab Notebooks/sentiment/wandb/run-20200605_114447-27trrda7/wandb-metadata.json\n",
      "INFO:wandb.run_manager:file/dir created: /content/drive/My Drive/Colab Notebooks/sentiment/wandb/run-20200605_114447-27trrda7/wandb-summary.json\n",
      "INFO:wandb.run_manager:file/dir created: /content/drive/My Drive/Colab Notebooks/sentiment/wandb/run-20200605_114447-27trrda7/wandb-events.jsonl\n"
     ]
    },
    {
     "name": "stdout",
     "output_type": "stream",
     "text": [
      "\r",
      "Running loss: 0.934663"
     ]
    },
    {
     "name": "stderr",
     "output_type": "stream",
     "text": [
      "INFO:wandb.run_manager:file/dir modified: /content/drive/My Drive/Colab Notebooks/sentiment/wandb/run-20200605_114447-27trrda7/wandb-summary.json\n",
      "INFO:wandb.run_manager:file/dir created: /content/drive/My Drive/Colab Notebooks/sentiment/wandb/run-20200605_114447-27trrda7/media/graph/graph_0_summary_b9a3516b.graph.json\n",
      "INFO:wandb.run_manager:file/dir created: /content/drive/My Drive/Colab Notebooks/sentiment/wandb/run-20200605_114447-27trrda7/media/graph\n",
      "INFO:wandb.run_manager:file/dir created: /content/drive/My Drive/Colab Notebooks/sentiment/wandb/run-20200605_114447-27trrda7/media\n"
     ]
    },
    {
     "name": "stdout",
     "output_type": "stream",
     "text": [
      "Running loss: 0.820461"
     ]
    },
    {
     "name": "stderr",
     "output_type": "stream",
     "text": [
      "/usr/local/lib/python3.6/dist-packages/torch/optim/lr_scheduler.py:231: UserWarning: To get the last learning rate computed by the scheduler, please use `get_last_lr()`.\n",
      "  warnings.warn(\"To get the last learning rate computed by the scheduler, \"\n",
      "INFO:simpletransformers.classification.classification_model: Converting to features started. Cache is not used.\n",
      "INFO:wandb.run_manager:file/dir modified: /content/drive/My Drive/Colab Notebooks/sentiment/wandb/run-20200605_114447-27trrda7/wandb-history.jsonl\n",
      "INFO:wandb.run_manager:file/dir modified: /content/drive/My Drive/Colab Notebooks/sentiment/wandb/run-20200605_114447-27trrda7/wandb-summary.json\n",
      "INFO:wandb.run_manager:file/dir modified: /content/drive/My Drive/Colab Notebooks/sentiment/wandb/run-20200605_114447-27trrda7/wandb-history.jsonl\n",
      "INFO:simpletransformers.classification.classification_model:{'mcc': -0.002676318819679001, 'tp': 29, 'tn': 24, 'fp': 16, 'fn': 44, 'acc': 0.4690265486725664, 'f1_score': 0.4915254237288136, 'eval_loss': 0.7036657611529032}\n",
      "INFO:wandb.run_manager:file/dir modified: /content/drive/My Drive/Colab Notebooks/sentiment/wandb/run-20200605_114447-27trrda7/wandb-history.jsonl\n",
      "INFO:wandb.run_manager:file/dir modified: /content/drive/My Drive/Colab Notebooks/sentiment/wandb/run-20200605_114447-27trrda7/wandb-summary.json\n",
      "INFO:wandb.run_manager:file/dir modified: /content/drive/My Drive/Colab Notebooks/sentiment/wandb/run-20200605_114447-27trrda7/wandb-metadata.json\n",
      "INFO:wandb.run_manager:file/dir modified: /content/drive/My Drive/Colab Notebooks/sentiment/wandb/run-20200605_114447-27trrda7/wandb-metadata.json\n",
      "INFO:wandb.run_manager:file/dir modified: /content/drive/My Drive/Colab Notebooks/sentiment/wandb/run-20200605_114447-27trrda7/wandb-metadata.json\n",
      "/usr/local/lib/python3.6/dist-packages/torch/optim/lr_scheduler.py:200: UserWarning: Please also save or load the state of the optimzer when saving or loading the scheduler.\n",
      "  warnings.warn(SAVE_STATE_WARNING, UserWarning)\n"
     ]
    },
    {
     "name": "stdout",
     "output_type": "stream",
     "text": [
      "\r",
      "Running loss: 0.752783"
     ]
    },
    {
     "name": "stderr",
     "output_type": "stream",
     "text": [
      "INFO:wandb.run_manager:file/dir modified: /content/drive/My Drive/Colab Notebooks/sentiment/wandb/run-20200605_114447-27trrda7/wandb-events.jsonl\n"
     ]
    },
    {
     "name": "stdout",
     "output_type": "stream",
     "text": [
      "Running loss: 0.622309"
     ]
    },
    {
     "name": "stderr",
     "output_type": "stream",
     "text": [
      "INFO:simpletransformers.classification.classification_model: Features loaded from cache at cache_dir/cached_dev_xlnet_128_2_113\n",
      "INFO:wandb.run_manager:file/dir modified: /content/drive/My Drive/Colab Notebooks/sentiment/wandb/run-20200605_114447-27trrda7/wandb-history.jsonl\n",
      "INFO:wandb.run_manager:file/dir modified: /content/drive/My Drive/Colab Notebooks/sentiment/wandb/run-20200605_114447-27trrda7/wandb-summary.json\n",
      "INFO:wandb.run_manager:file/dir modified: /content/drive/My Drive/Colab Notebooks/sentiment/wandb/run-20200605_114447-27trrda7/wandb-metadata.json\n",
      "INFO:simpletransformers.classification.classification_model:{'mcc': -0.12224549132560923, 'tp': 70, 'tn': 0, 'fp': 40, 'fn': 3, 'acc': 0.6194690265486725, 'f1_score': 0.7650273224043717, 'eval_loss': 0.6015318055947622}\n",
      "INFO:wandb.run_manager:file/dir modified: /content/drive/My Drive/Colab Notebooks/sentiment/wandb/run-20200605_114447-27trrda7/wandb-history.jsonl\n",
      "INFO:wandb.run_manager:file/dir modified: /content/drive/My Drive/Colab Notebooks/sentiment/wandb/run-20200605_114447-27trrda7/wandb-summary.json\n",
      "INFO:wandb.run_manager:file/dir modified: /content/drive/My Drive/Colab Notebooks/sentiment/wandb/run-20200605_114447-27trrda7/wandb-metadata.json\n",
      "INFO:wandb.run_manager:file/dir modified: /content/drive/My Drive/Colab Notebooks/sentiment/wandb/run-20200605_114447-27trrda7/wandb-metadata.json\n",
      "INFO:wandb.run_manager:file/dir modified: /content/drive/My Drive/Colab Notebooks/sentiment/wandb/run-20200605_114447-27trrda7/wandb-metadata.json\n",
      "INFO:wandb.run_manager:file/dir modified: /content/drive/My Drive/Colab Notebooks/sentiment/wandb/run-20200605_114447-27trrda7/wandb-events.jsonl\n"
     ]
    },
    {
     "name": "stdout",
     "output_type": "stream",
     "text": [
      "Running loss: 0.617308"
     ]
    },
    {
     "name": "stderr",
     "output_type": "stream",
     "text": [
      "INFO:simpletransformers.classification.classification_model: Features loaded from cache at cache_dir/cached_dev_xlnet_128_2_113\n"
     ]
    },
    {
     "name": "stdout",
     "output_type": "stream",
     "text": [
      "\n"
     ]
    },
    {
     "name": "stderr",
     "output_type": "stream",
     "text": [
      "INFO:simpletransformers.classification.classification_model:{'mcc': 0.11759032251677869, 'tp': 40, 'tn': 23, 'fp': 17, 'fn': 33, 'acc': 0.5575221238938053, 'f1_score': 0.6153846153846154, 'eval_loss': 0.6724716544151306}\n"
     ]
    },
    {
     "data": {
      "application/vnd.jupyter.widget-view+json": {
       "model_id": "f2c6ec346a68415981704f9ca909ab8c",
       "version_major": 2,
       "version_minor": 0
      },
      "text/plain": [
       "HBox(children=(FloatProgress(value=0.0, description='Current iteration', max=22.0, style=ProgressStyle(descrip…"
      ]
     },
     "metadata": {
      "tags": []
     },
     "output_type": "display_data"
    },
    {
     "name": "stderr",
     "output_type": "stream",
     "text": [
      "INFO:wandb.run_manager:file/dir modified: /content/drive/My Drive/Colab Notebooks/sentiment/wandb/run-20200605_114447-27trrda7/wandb-history.jsonl\n",
      "INFO:wandb.run_manager:file/dir modified: /content/drive/My Drive/Colab Notebooks/sentiment/wandb/run-20200605_114447-27trrda7/wandb-summary.json\n",
      "INFO:wandb.run_manager:file/dir modified: /content/drive/My Drive/Colab Notebooks/sentiment/wandb/run-20200605_114447-27trrda7/wandb-metadata.json\n"
     ]
    },
    {
     "name": "stdout",
     "output_type": "stream",
     "text": [
      "Running loss: 0.455076"
     ]
    },
    {
     "name": "stderr",
     "output_type": "stream",
     "text": [
      "INFO:simpletransformers.classification.classification_model: Features loaded from cache at cache_dir/cached_dev_xlnet_128_2_113\n",
      "INFO:wandb.run_manager:file/dir modified: /content/drive/My Drive/Colab Notebooks/sentiment/wandb/run-20200605_114447-27trrda7/wandb-history.jsonl\n",
      "INFO:wandb.run_manager:file/dir modified: /content/drive/My Drive/Colab Notebooks/sentiment/wandb/run-20200605_114447-27trrda7/wandb-summary.json\n",
      "INFO:simpletransformers.classification.classification_model:{'mcc': 0.21724746368640482, 'tp': 64, 'tn': 12, 'fp': 28, 'fn': 9, 'acc': 0.672566371681416, 'f1_score': 0.7757575757575758, 'eval_loss': 0.6036652167638142}\n"
     ]
    },
    {
     "name": "stdout",
     "output_type": "stream",
     "text": [
      "\r",
      "Running loss: 0.576447"
     ]
    },
    {
     "name": "stderr",
     "output_type": "stream",
     "text": [
      "INFO:wandb.run_manager:file/dir modified: /content/drive/My Drive/Colab Notebooks/sentiment/wandb/run-20200605_114447-27trrda7/wandb-history.jsonl\n",
      "INFO:wandb.run_manager:file/dir modified: /content/drive/My Drive/Colab Notebooks/sentiment/wandb/run-20200605_114447-27trrda7/wandb-summary.json\n"
     ]
    },
    {
     "name": "stdout",
     "output_type": "stream",
     "text": [
      "Running loss: 0.897997"
     ]
    },
    {
     "name": "stderr",
     "output_type": "stream",
     "text": [
      "INFO:simpletransformers.classification.classification_model: Features loaded from cache at cache_dir/cached_dev_xlnet_128_2_113\n",
      "INFO:wandb.run_manager:file/dir modified: /content/drive/My Drive/Colab Notebooks/sentiment/wandb/run-20200605_114447-27trrda7/wandb-history.jsonl\n",
      "INFO:wandb.run_manager:file/dir modified: /content/drive/My Drive/Colab Notebooks/sentiment/wandb/run-20200605_114447-27trrda7/wandb-summary.json\n",
      "INFO:simpletransformers.classification.classification_model:{'mcc': 0.21093213043970702, 'tp': 18, 'tn': 37, 'fp': 3, 'fn': 55, 'acc': 0.48672566371681414, 'f1_score': 0.3829787234042553, 'eval_loss': 0.734191878636678}\n",
      "INFO:wandb.run_manager:file/dir modified: /content/drive/My Drive/Colab Notebooks/sentiment/wandb/run-20200605_114447-27trrda7/wandb-history.jsonl\n"
     ]
    },
    {
     "name": "stdout",
     "output_type": "stream",
     "text": [
      "\r",
      "Running loss: 0.548946"
     ]
    },
    {
     "name": "stderr",
     "output_type": "stream",
     "text": [
      "INFO:wandb.run_manager:file/dir modified: /content/drive/My Drive/Colab Notebooks/sentiment/wandb/run-20200605_114447-27trrda7/wandb-summary.json\n",
      "INFO:wandb.run_manager:file/dir modified: /content/drive/My Drive/Colab Notebooks/sentiment/wandb/run-20200605_114447-27trrda7/wandb-metadata.json\n"
     ]
    },
    {
     "name": "stdout",
     "output_type": "stream",
     "text": [
      "Running loss: 0.445167"
     ]
    },
    {
     "name": "stderr",
     "output_type": "stream",
     "text": [
      "INFO:wandb.run_manager:file/dir modified: /content/drive/My Drive/Colab Notebooks/sentiment/wandb/run-20200605_114447-27trrda7/wandb-events.jsonl\n"
     ]
    },
    {
     "name": "stdout",
     "output_type": "stream",
     "text": [
      "Running loss: 0.501683"
     ]
    },
    {
     "name": "stderr",
     "output_type": "stream",
     "text": [
      "INFO:simpletransformers.classification.classification_model: Features loaded from cache at cache_dir/cached_dev_xlnet_128_2_113\n",
      "INFO:wandb.run_manager:file/dir modified: /content/drive/My Drive/Colab Notebooks/sentiment/wandb/run-20200605_114447-27trrda7/wandb-history.jsonl\n",
      "INFO:wandb.run_manager:file/dir modified: /content/drive/My Drive/Colab Notebooks/sentiment/wandb/run-20200605_114447-27trrda7/wandb-summary.json\n",
      "INFO:simpletransformers.classification.classification_model:{'mcc': 0.7157654085993914, 'tp': 64, 'tn': 34, 'fp': 6, 'fn': 9, 'acc': 0.8672566371681416, 'f1_score': 0.8951048951048951, 'eval_loss': 0.45267181694507597}\n",
      "INFO:wandb.run_manager:file/dir modified: /content/drive/My Drive/Colab Notebooks/sentiment/wandb/run-20200605_114447-27trrda7/wandb-history.jsonl\n",
      "INFO:wandb.run_manager:file/dir modified: /content/drive/My Drive/Colab Notebooks/sentiment/wandb/run-20200605_114447-27trrda7/wandb-summary.json\n",
      "INFO:wandb.run_manager:file/dir modified: /content/drive/My Drive/Colab Notebooks/sentiment/wandb/run-20200605_114447-27trrda7/wandb-metadata.json\n",
      "INFO:wandb.run_manager:file/dir modified: /content/drive/My Drive/Colab Notebooks/sentiment/wandb/run-20200605_114447-27trrda7/wandb-metadata.json\n",
      "INFO:wandb.run_manager:file/dir modified: /content/drive/My Drive/Colab Notebooks/sentiment/wandb/run-20200605_114447-27trrda7/wandb-metadata.json\n"
     ]
    },
    {
     "name": "stdout",
     "output_type": "stream",
     "text": [
      "Running loss: 0.287097"
     ]
    },
    {
     "name": "stderr",
     "output_type": "stream",
     "text": [
      "INFO:simpletransformers.classification.classification_model: Features loaded from cache at cache_dir/cached_dev_xlnet_128_2_113\n"
     ]
    },
    {
     "name": "stdout",
     "output_type": "stream",
     "text": [
      "\n"
     ]
    },
    {
     "name": "stderr",
     "output_type": "stream",
     "text": [
      "INFO:wandb.run_manager:file/dir modified: /content/drive/My Drive/Colab Notebooks/sentiment/wandb/run-20200605_114447-27trrda7/wandb-events.jsonl\n",
      "INFO:simpletransformers.classification.classification_model:{'mcc': 0.6903479465269096, 'tp': 58, 'tn': 37, 'fp': 3, 'fn': 15, 'acc': 0.8407079646017699, 'f1_score': 0.8656716417910448, 'eval_loss': 0.5152965794006984}\n"
     ]
    },
    {
     "data": {
      "application/vnd.jupyter.widget-view+json": {
       "model_id": "a70198ea9f6e4fdc83b0b1af50db74a5",
       "version_major": 2,
       "version_minor": 0
      },
      "text/plain": [
       "HBox(children=(FloatProgress(value=0.0, description='Current iteration', max=22.0, style=ProgressStyle(descrip…"
      ]
     },
     "metadata": {
      "tags": []
     },
     "output_type": "display_data"
    },
    {
     "name": "stderr",
     "output_type": "stream",
     "text": [
      "INFO:wandb.run_manager:file/dir modified: /content/drive/My Drive/Colab Notebooks/sentiment/wandb/run-20200605_114447-27trrda7/wandb-history.jsonl\n",
      "INFO:wandb.run_manager:file/dir modified: /content/drive/My Drive/Colab Notebooks/sentiment/wandb/run-20200605_114447-27trrda7/wandb-summary.json\n"
     ]
    },
    {
     "name": "stdout",
     "output_type": "stream",
     "text": [
      "\r",
      "Running loss: 0.336924"
     ]
    },
    {
     "name": "stderr",
     "output_type": "stream",
     "text": [
      "INFO:wandb.run_manager:file/dir modified: /content/drive/My Drive/Colab Notebooks/sentiment/wandb/run-20200605_114447-27trrda7/wandb-metadata.json\n"
     ]
    },
    {
     "name": "stdout",
     "output_type": "stream",
     "text": [
      "Running loss: 0.419462"
     ]
    },
    {
     "name": "stderr",
     "output_type": "stream",
     "text": [
      "INFO:simpletransformers.classification.classification_model: Features loaded from cache at cache_dir/cached_dev_xlnet_128_2_113\n",
      "INFO:wandb.run_manager:file/dir modified: /content/drive/My Drive/Colab Notebooks/sentiment/wandb/run-20200605_114447-27trrda7/wandb-history.jsonl\n",
      "INFO:wandb.run_manager:file/dir modified: /content/drive/My Drive/Colab Notebooks/sentiment/wandb/run-20200605_114447-27trrda7/wandb-summary.json\n",
      "INFO:simpletransformers.classification.classification_model:{'mcc': 0.704851188702287, 'tp': 69, 'tn': 29, 'fp': 11, 'fn': 4, 'acc': 0.8672566371681416, 'f1_score': 0.9019607843137256, 'eval_loss': 0.3998876636226972}\n",
      "INFO:wandb.run_manager:file/dir modified: /content/drive/My Drive/Colab Notebooks/sentiment/wandb/run-20200605_114447-27trrda7/wandb-history.jsonl\n",
      "INFO:wandb.run_manager:file/dir modified: /content/drive/My Drive/Colab Notebooks/sentiment/wandb/run-20200605_114447-27trrda7/wandb-summary.json\n",
      "INFO:wandb.run_manager:file/dir modified: /content/drive/My Drive/Colab Notebooks/sentiment/wandb/run-20200605_114447-27trrda7/wandb-metadata.json\n",
      "INFO:wandb.run_manager:file/dir modified: /content/drive/My Drive/Colab Notebooks/sentiment/wandb/run-20200605_114447-27trrda7/wandb-metadata.json\n",
      "INFO:wandb.run_manager:file/dir modified: /content/drive/My Drive/Colab Notebooks/sentiment/wandb/run-20200605_114447-27trrda7/wandb-metadata.json\n"
     ]
    },
    {
     "name": "stdout",
     "output_type": "stream",
     "text": [
      "Running loss: 0.245676"
     ]
    },
    {
     "name": "stderr",
     "output_type": "stream",
     "text": [
      "INFO:wandb.run_manager:file/dir modified: /content/drive/My Drive/Colab Notebooks/sentiment/wandb/run-20200605_114447-27trrda7/wandb-events.jsonl\n"
     ]
    },
    {
     "name": "stdout",
     "output_type": "stream",
     "text": [
      "Running loss: 0.225403"
     ]
    },
    {
     "name": "stderr",
     "output_type": "stream",
     "text": [
      "INFO:wandb.run_manager:file/dir modified: /content/drive/My Drive/Colab Notebooks/sentiment/wandb/run-20200605_114447-27trrda7/wandb-metadata.json\n"
     ]
    },
    {
     "name": "stdout",
     "output_type": "stream",
     "text": [
      "Running loss: 0.080476"
     ]
    },
    {
     "name": "stderr",
     "output_type": "stream",
     "text": [
      "INFO:simpletransformers.classification.classification_model: Features loaded from cache at cache_dir/cached_dev_xlnet_128_2_113\n",
      "INFO:wandb.run_manager:file/dir modified: /content/drive/My Drive/Colab Notebooks/sentiment/wandb/run-20200605_114447-27trrda7/wandb-history.jsonl\n",
      "INFO:wandb.run_manager:file/dir modified: /content/drive/My Drive/Colab Notebooks/sentiment/wandb/run-20200605_114447-27trrda7/wandb-summary.json\n",
      "INFO:simpletransformers.classification.classification_model:{'mcc': 0.7337112045615161, 'tp': 56, 'tn': 40, 'fp': 0, 'fn': 17, 'acc': 0.8495575221238938, 'f1_score': 0.8682170542635659, 'eval_loss': 0.5295727988084157}\n",
      "INFO:wandb.run_manager:file/dir modified: /content/drive/My Drive/Colab Notebooks/sentiment/wandb/run-20200605_114447-27trrda7/wandb-history.jsonl\n",
      "INFO:wandb.run_manager:file/dir modified: /content/drive/My Drive/Colab Notebooks/sentiment/wandb/run-20200605_114447-27trrda7/wandb-summary.json\n"
     ]
    },
    {
     "name": "stdout",
     "output_type": "stream",
     "text": [
      "Running loss: 0.238658"
     ]
    },
    {
     "name": "stderr",
     "output_type": "stream",
     "text": [
      "INFO:wandb.run_manager:file/dir modified: /content/drive/My Drive/Colab Notebooks/sentiment/wandb/run-20200605_114447-27trrda7/wandb-history.jsonl\n",
      "INFO:simpletransformers.classification.classification_model: Features loaded from cache at cache_dir/cached_dev_xlnet_128_2_113\n",
      "INFO:wandb.run_manager:file/dir modified: /content/drive/My Drive/Colab Notebooks/sentiment/wandb/run-20200605_114447-27trrda7/wandb-summary.json\n",
      "INFO:simpletransformers.classification.classification_model:{'mcc': 0.8510680779580772, 'tp': 67, 'tn': 38, 'fp': 2, 'fn': 6, 'acc': 0.9292035398230089, 'f1_score': 0.943661971830986, 'eval_loss': 0.36499045938253405}\n",
      "INFO:wandb.run_manager:file/dir modified: /content/drive/My Drive/Colab Notebooks/sentiment/wandb/run-20200605_114447-27trrda7/wandb-history.jsonl\n",
      "INFO:wandb.run_manager:file/dir modified: /content/drive/My Drive/Colab Notebooks/sentiment/wandb/run-20200605_114447-27trrda7/wandb-summary.json\n",
      "INFO:wandb.run_manager:file/dir modified: /content/drive/My Drive/Colab Notebooks/sentiment/wandb/run-20200605_114447-27trrda7/wandb-metadata.json\n",
      "INFO:wandb.run_manager:file/dir modified: /content/drive/My Drive/Colab Notebooks/sentiment/wandb/run-20200605_114447-27trrda7/wandb-metadata.json\n",
      "INFO:wandb.run_manager:file/dir modified: /content/drive/My Drive/Colab Notebooks/sentiment/wandb/run-20200605_114447-27trrda7/wandb-events.jsonl\n",
      "INFO:wandb.run_manager:file/dir modified: /content/drive/My Drive/Colab Notebooks/sentiment/wandb/run-20200605_114447-27trrda7/wandb-metadata.json\n",
      "INFO:wandb.run_manager:file/dir modified: /content/drive/My Drive/Colab Notebooks/sentiment/wandb/run-20200605_114447-27trrda7/wandb-metadata.json\n"
     ]
    },
    {
     "name": "stdout",
     "output_type": "stream",
     "text": [
      "Running loss: 0.306644"
     ]
    },
    {
     "name": "stderr",
     "output_type": "stream",
     "text": [
      "INFO:simpletransformers.classification.classification_model: Features loaded from cache at cache_dir/cached_dev_xlnet_128_2_113\n"
     ]
    },
    {
     "name": "stdout",
     "output_type": "stream",
     "text": [
      "\n"
     ]
    },
    {
     "name": "stderr",
     "output_type": "stream",
     "text": [
      "INFO:simpletransformers.classification.classification_model:{'mcc': 0.885850302806926, 'tp': 69, 'tn': 38, 'fp': 2, 'fn': 4, 'acc': 0.9469026548672567, 'f1_score': 0.9583333333333334, 'eval_loss': 0.3161250169078509}\n",
      "INFO:wandb.run_manager:file/dir modified: /content/drive/My Drive/Colab Notebooks/sentiment/wandb/run-20200605_114447-27trrda7/wandb-history.jsonl\n",
      "INFO:wandb.run_manager:file/dir modified: /content/drive/My Drive/Colab Notebooks/sentiment/wandb/run-20200605_114447-27trrda7/wandb-summary.json\n",
      "INFO:wandb.run_manager:file/dir modified: /content/drive/My Drive/Colab Notebooks/sentiment/wandb/run-20200605_114447-27trrda7/wandb-metadata.json\n",
      "INFO:wandb.run_manager:file/dir modified: /content/drive/My Drive/Colab Notebooks/sentiment/wandb/run-20200605_114447-27trrda7/wandb-metadata.json\n",
      "INFO:wandb.run_manager:file/dir modified: /content/drive/My Drive/Colab Notebooks/sentiment/wandb/run-20200605_114447-27trrda7/wandb-events.jsonl\n",
      "INFO:wandb.run_manager:file/dir modified: /content/drive/My Drive/Colab Notebooks/sentiment/wandb/run-20200605_114447-27trrda7/wandb-metadata.json\n"
     ]
    },
    {
     "data": {
      "application/vnd.jupyter.widget-view+json": {
       "model_id": "80ad8ba7a723460594d4fee6ad8db397",
       "version_major": 2,
       "version_minor": 0
      },
      "text/plain": [
       "HBox(children=(FloatProgress(value=0.0, description='Current iteration', max=22.0, style=ProgressStyle(descrip…"
      ]
     },
     "metadata": {
      "tags": []
     },
     "output_type": "display_data"
    },
    {
     "name": "stdout",
     "output_type": "stream",
     "text": [
      "Running loss: 0.135184"
     ]
    },
    {
     "name": "stderr",
     "output_type": "stream",
     "text": [
      "INFO:simpletransformers.classification.classification_model: Features loaded from cache at cache_dir/cached_dev_xlnet_128_2_113\n",
      "INFO:wandb.run_manager:file/dir modified: /content/drive/My Drive/Colab Notebooks/sentiment/wandb/run-20200605_114447-27trrda7/wandb-history.jsonl\n",
      "INFO:wandb.run_manager:file/dir modified: /content/drive/My Drive/Colab Notebooks/sentiment/wandb/run-20200605_114447-27trrda7/wandb-summary.json\n",
      "INFO:wandb.run_manager:file/dir modified: /content/drive/My Drive/Colab Notebooks/sentiment/wandb/run-20200605_114447-27trrda7/wandb-metadata.json\n",
      "INFO:simpletransformers.classification.classification_model:{'mcc': 0.8839041095890411, 'tp': 70, 'tn': 37, 'fp': 3, 'fn': 3, 'acc': 0.9469026548672567, 'f1_score': 0.958904109589041, 'eval_loss': 0.17607870002587636}\n",
      "INFO:wandb.run_manager:file/dir modified: /content/drive/My Drive/Colab Notebooks/sentiment/wandb/run-20200605_114447-27trrda7/wandb-history.jsonl\n",
      "INFO:wandb.run_manager:file/dir modified: /content/drive/My Drive/Colab Notebooks/sentiment/wandb/run-20200605_114447-27trrda7/wandb-summary.json\n",
      "INFO:wandb.run_manager:file/dir modified: /content/drive/My Drive/Colab Notebooks/sentiment/wandb/run-20200605_114447-27trrda7/wandb-metadata.json\n",
      "INFO:wandb.run_manager:file/dir modified: /content/drive/My Drive/Colab Notebooks/sentiment/wandb/run-20200605_114447-27trrda7/wandb-metadata.json\n",
      "INFO:wandb.run_manager:file/dir modified: /content/drive/My Drive/Colab Notebooks/sentiment/wandb/run-20200605_114447-27trrda7/wandb-events.jsonl\n",
      "INFO:wandb.run_manager:file/dir modified: /content/drive/My Drive/Colab Notebooks/sentiment/wandb/run-20200605_114447-27trrda7/wandb-metadata.json\n"
     ]
    },
    {
     "name": "stdout",
     "output_type": "stream",
     "text": [
      "Running loss: 0.156436"
     ]
    },
    {
     "name": "stderr",
     "output_type": "stream",
     "text": [
      "INFO:wandb.run_manager:file/dir modified: /content/drive/My Drive/Colab Notebooks/sentiment/wandb/run-20200605_114447-27trrda7/wandb-metadata.json\n"
     ]
    },
    {
     "name": "stdout",
     "output_type": "stream",
     "text": [
      "\r",
      "Running loss: 0.161918"
     ]
    },
    {
     "name": "stderr",
     "output_type": "stream",
     "text": [
      "INFO:simpletransformers.classification.classification_model: Features loaded from cache at cache_dir/cached_dev_xlnet_128_2_113\n",
      "INFO:wandb.run_manager:file/dir modified: /content/drive/My Drive/Colab Notebooks/sentiment/wandb/run-20200605_114447-27trrda7/wandb-history.jsonl\n",
      "INFO:wandb.run_manager:file/dir modified: /content/drive/My Drive/Colab Notebooks/sentiment/wandb/run-20200605_114447-27trrda7/wandb-summary.json\n",
      "INFO:simpletransformers.classification.classification_model:{'mcc': 0.906343851511105, 'tp': 69, 'tn': 39, 'fp': 1, 'fn': 4, 'acc': 0.9557522123893806, 'f1_score': 0.9650349650349651, 'eval_loss': 0.23067231029272078}\n",
      "INFO:wandb.run_manager:file/dir modified: /content/drive/My Drive/Colab Notebooks/sentiment/wandb/run-20200605_114447-27trrda7/wandb-history.jsonl\n",
      "INFO:wandb.run_manager:file/dir modified: /content/drive/My Drive/Colab Notebooks/sentiment/wandb/run-20200605_114447-27trrda7/wandb-summary.json\n"
     ]
    },
    {
     "name": "stdout",
     "output_type": "stream",
     "text": [
      "Running loss: 0.043912"
     ]
    },
    {
     "name": "stderr",
     "output_type": "stream",
     "text": [
      "INFO:simpletransformers.classification.classification_model: Features loaded from cache at cache_dir/cached_dev_xlnet_128_2_113\n",
      "INFO:wandb.run_manager:file/dir modified: /content/drive/My Drive/Colab Notebooks/sentiment/wandb/run-20200605_114447-27trrda7/wandb-history.jsonl\n",
      "INFO:wandb.run_manager:file/dir modified: /content/drive/My Drive/Colab Notebooks/sentiment/wandb/run-20200605_114447-27trrda7/wandb-summary.json\n",
      "INFO:simpletransformers.classification.classification_model:{'mcc': 0.8933611272229809, 'tp': 67, 'tn': 40, 'fp': 0, 'fn': 6, 'acc': 0.9469026548672567, 'f1_score': 0.9571428571428571, 'eval_loss': 0.2119155064225197}\n",
      "INFO:wandb.run_manager:file/dir modified: /content/drive/My Drive/Colab Notebooks/sentiment/wandb/run-20200605_114447-27trrda7/wandb-history.jsonl\n",
      "INFO:wandb.run_manager:file/dir modified: /content/drive/My Drive/Colab Notebooks/sentiment/wandb/run-20200605_114447-27trrda7/wandb-summary.json\n",
      "INFO:simpletransformers.classification.classification_model: Features loaded from cache at cache_dir/cached_dev_xlnet_128_2_113\n"
     ]
    },
    {
     "name": "stdout",
     "output_type": "stream",
     "text": [
      "\n"
     ]
    },
    {
     "name": "stderr",
     "output_type": "stream",
     "text": [
      "INFO:simpletransformers.classification.classification_model:{'mcc': 0.8933611272229809, 'tp': 67, 'tn': 40, 'fp': 0, 'fn': 6, 'acc': 0.9469026548672567, 'f1_score': 0.9571428571428571, 'eval_loss': 0.2119155064225197}\n"
     ]
    },
    {
     "data": {
      "application/vnd.jupyter.widget-view+json": {
       "model_id": "2bfeb2aac41f4360b70d657050ee8bd6",
       "version_major": 2,
       "version_minor": 0
      },
      "text/plain": [
       "HBox(children=(FloatProgress(value=0.0, description='Current iteration', max=22.0, style=ProgressStyle(descrip…"
      ]
     },
     "metadata": {
      "tags": []
     },
     "output_type": "display_data"
    },
    {
     "name": "stderr",
     "output_type": "stream",
     "text": [
      "INFO:wandb.run_manager:file/dir modified: /content/drive/My Drive/Colab Notebooks/sentiment/wandb/run-20200605_114447-27trrda7/wandb-history.jsonl\n",
      "INFO:wandb.run_manager:file/dir modified: /content/drive/My Drive/Colab Notebooks/sentiment/wandb/run-20200605_114447-27trrda7/wandb-summary.json\n",
      "INFO:wandb.run_manager:file/dir modified: /content/drive/My Drive/Colab Notebooks/sentiment/wandb/run-20200605_114447-27trrda7/wandb-metadata.json\n",
      "INFO:wandb.run_manager:file/dir modified: /content/drive/My Drive/Colab Notebooks/sentiment/wandb/run-20200605_114447-27trrda7/wandb-events.jsonl\n"
     ]
    },
    {
     "name": "stdout",
     "output_type": "stream",
     "text": [
      "\r",
      "Running loss: 0.030077"
     ]
    },
    {
     "name": "stderr",
     "output_type": "stream",
     "text": [
      "INFO:wandb.run_manager:file/dir modified: /content/drive/My Drive/Colab Notebooks/sentiment/wandb/run-20200605_114447-27trrda7/wandb-events.jsonl\n"
     ]
    },
    {
     "name": "stdout",
     "output_type": "stream",
     "text": [
      "Running loss: 0.073535"
     ]
    },
    {
     "name": "stderr",
     "output_type": "stream",
     "text": [
      "INFO:simpletransformers.classification.classification_model: Features loaded from cache at cache_dir/cached_dev_xlnet_128_2_113\n",
      "INFO:wandb.run_manager:file/dir modified: /content/drive/My Drive/Colab Notebooks/sentiment/wandb/run-20200605_114447-27trrda7/wandb-history.jsonl\n",
      "INFO:wandb.run_manager:file/dir modified: /content/drive/My Drive/Colab Notebooks/sentiment/wandb/run-20200605_114447-27trrda7/wandb-summary.json\n",
      "INFO:simpletransformers.classification.classification_model:{'mcc': 0.8933611272229809, 'tp': 67, 'tn': 40, 'fp': 0, 'fn': 6, 'acc': 0.9469026548672567, 'f1_score': 0.9571428571428571, 'eval_loss': 0.1672946055730184}\n",
      "INFO:wandb.run_manager:file/dir modified: /content/drive/My Drive/Colab Notebooks/sentiment/wandb/run-20200605_114447-27trrda7/wandb-history.jsonl\n",
      "INFO:wandb.run_manager:file/dir modified: /content/drive/My Drive/Colab Notebooks/sentiment/wandb/run-20200605_114447-27trrda7/wandb-summary.json\n",
      "INFO:wandb.run_manager:file/dir modified: /content/drive/My Drive/Colab Notebooks/sentiment/wandb/run-20200605_114447-27trrda7/wandb-events.jsonl\n",
      "INFO:wandb.run_manager:file/dir modified: /content/drive/My Drive/Colab Notebooks/sentiment/wandb/run-20200605_114447-27trrda7/wandb-metadata.json\n",
      "INFO:wandb.run_manager:file/dir modified: /content/drive/My Drive/Colab Notebooks/sentiment/wandb/run-20200605_114447-27trrda7/wandb-metadata.json\n",
      "INFO:wandb.run_manager:file/dir modified: /content/drive/My Drive/Colab Notebooks/sentiment/wandb/run-20200605_114447-27trrda7/wandb-metadata.json\n",
      "INFO:wandb.run_manager:file/dir modified: /content/drive/My Drive/Colab Notebooks/sentiment/wandb/run-20200605_114447-27trrda7/wandb-metadata.json\n",
      "INFO:wandb.run_manager:file/dir modified: /content/drive/My Drive/Colab Notebooks/sentiment/wandb/run-20200605_114447-27trrda7/wandb-events.jsonl\n"
     ]
    },
    {
     "name": "stdout",
     "output_type": "stream",
     "text": [
      "Running loss: 0.153333"
     ]
    },
    {
     "name": "stderr",
     "output_type": "stream",
     "text": [
      "INFO:wandb.run_manager:file/dir modified: /content/drive/My Drive/Colab Notebooks/sentiment/wandb/run-20200605_114447-27trrda7/wandb-metadata.json\n"
     ]
    },
    {
     "name": "stdout",
     "output_type": "stream",
     "text": [
      "Running loss: 0.218144"
     ]
    },
    {
     "name": "stderr",
     "output_type": "stream",
     "text": [
      "INFO:wandb.run_manager:file/dir modified: /content/drive/My Drive/Colab Notebooks/sentiment/wandb/run-20200605_114447-27trrda7/wandb-history.jsonl\n",
      "INFO:simpletransformers.classification.classification_model: Features loaded from cache at cache_dir/cached_dev_xlnet_128_2_113\n",
      "INFO:wandb.run_manager:file/dir modified: /content/drive/My Drive/Colab Notebooks/sentiment/wandb/run-20200605_114447-27trrda7/wandb-summary.json\n",
      "INFO:simpletransformers.classification.classification_model:{'mcc': 0.926972334318979, 'tp': 69, 'tn': 40, 'fp': 0, 'fn': 4, 'acc': 0.9646017699115044, 'f1_score': 0.971830985915493, 'eval_loss': 0.12749964892864227}\n",
      "INFO:wandb.run_manager:file/dir modified: /content/drive/My Drive/Colab Notebooks/sentiment/wandb/run-20200605_114447-27trrda7/wandb-history.jsonl\n",
      "INFO:wandb.run_manager:file/dir modified: /content/drive/My Drive/Colab Notebooks/sentiment/wandb/run-20200605_114447-27trrda7/wandb-summary.json\n",
      "INFO:wandb.run_manager:file/dir modified: /content/drive/My Drive/Colab Notebooks/sentiment/wandb/run-20200605_114447-27trrda7/wandb-metadata.json\n",
      "INFO:wandb.run_manager:file/dir modified: /content/drive/My Drive/Colab Notebooks/sentiment/wandb/run-20200605_114447-27trrda7/wandb-metadata.json\n",
      "INFO:wandb.run_manager:file/dir modified: /content/drive/My Drive/Colab Notebooks/sentiment/wandb/run-20200605_114447-27trrda7/wandb-events.jsonl\n",
      "INFO:wandb.run_manager:file/dir modified: /content/drive/My Drive/Colab Notebooks/sentiment/wandb/run-20200605_114447-27trrda7/wandb-metadata.json\n"
     ]
    },
    {
     "name": "stdout",
     "output_type": "stream",
     "text": [
      "Running loss: 0.017433"
     ]
    },
    {
     "name": "stderr",
     "output_type": "stream",
     "text": [
      "INFO:wandb.run_manager:file/dir modified: /content/drive/My Drive/Colab Notebooks/sentiment/wandb/run-20200605_114447-27trrda7/wandb-metadata.json\n",
      "INFO:simpletransformers.classification.classification_model: Features loaded from cache at cache_dir/cached_dev_xlnet_128_2_113\n"
     ]
    },
    {
     "name": "stdout",
     "output_type": "stream",
     "text": [
      "\n"
     ]
    },
    {
     "name": "stderr",
     "output_type": "stream",
     "text": [
      "INFO:simpletransformers.classification.classification_model:{'mcc': 0.9444595400934477, 'tp': 70, 'tn': 40, 'fp': 0, 'fn': 3, 'acc': 0.9734513274336283, 'f1_score': 0.9790209790209791, 'eval_loss': 0.12109338343143464}\n",
      "INFO:wandb.run_manager:file/dir modified: /content/drive/My Drive/Colab Notebooks/sentiment/wandb/run-20200605_114447-27trrda7/wandb-history.jsonl\n",
      "INFO:wandb.run_manager:file/dir modified: /content/drive/My Drive/Colab Notebooks/sentiment/wandb/run-20200605_114447-27trrda7/wandb-summary.json\n",
      "INFO:wandb.run_manager:file/dir modified: /content/drive/My Drive/Colab Notebooks/sentiment/wandb/run-20200605_114447-27trrda7/wandb-metadata.json\n",
      "INFO:wandb.run_manager:file/dir modified: /content/drive/My Drive/Colab Notebooks/sentiment/wandb/run-20200605_114447-27trrda7/wandb-metadata.json\n",
      "INFO:wandb.run_manager:file/dir modified: /content/drive/My Drive/Colab Notebooks/sentiment/wandb/run-20200605_114447-27trrda7/wandb-events.jsonl\n",
      "INFO:wandb.run_manager:file/dir modified: /content/drive/My Drive/Colab Notebooks/sentiment/wandb/run-20200605_114447-27trrda7/wandb-metadata.json\n",
      "INFO:wandb.run_manager:file/dir modified: /content/drive/My Drive/Colab Notebooks/sentiment/wandb/run-20200605_114447-27trrda7/wandb-metadata.json\n"
     ]
    },
    {
     "name": "stdout",
     "output_type": "stream",
     "text": [
      "\n"
     ]
    },
    {
     "name": "stderr",
     "output_type": "stream",
     "text": [
      "INFO:wandb.run_manager:file/dir modified: /content/drive/My Drive/Colab Notebooks/sentiment/wandb/run-20200605_114447-27trrda7/wandb-metadata.json\n",
      "INFO:simpletransformers.classification.classification_model: Training of xlnet model complete. Saved to outputs/.\n",
      "INFO:wandb.run_manager:shutting down system stats and metadata service\n",
      "INFO:wandb.run_manager:file/dir modified: /content/drive/My Drive/Colab Notebooks/sentiment/wandb/run-20200605_114447-27trrda7/wandb-events.jsonl\n",
      "INFO:wandb.run_manager:stopping streaming files and file change observer\n",
      "INFO:wandb.run_manager:file/dir modified: /content/drive/My Drive/Colab Notebooks/sentiment/wandb/run-20200605_114447-27trrda7/wandb-metadata.json\n"
     ]
    }
   ],
   "source": [
    "# Create a NERModel\n",
    "model = ClassificationModel('xlnet', \n",
    "                            'xlnet-large-cased',\n",
    "                            args=train_args,\n",
    "                            num_labels=2)\n",
    "\n",
    "\n",
    "# Train the model\n",
    "model.train_model(train_data,\n",
    "                  eval_df = eval_data,\n",
    "                  acc = sklearn.metrics.accuracy_score,\n",
    "                  f1_score = sklearn.metrics.f1_score)"
   ]
  },
  {
   "cell_type": "code",
   "execution_count": 7,
   "metadata": {
    "colab": {
     "base_uri": "https://localhost:8080/",
     "height": 137,
     "referenced_widgets": [
      "b7184c85808e49d6b2a5e9d0b93190a0",
      "6f2ef69dd1f2405dbd5d93d2e42fa938",
      "fba3e219b04a438ab18e9922a8516b0a",
      "1a7509cf48c04b359d3275469e942018",
      "493af39181d54602b75b8811a0382166",
      "bf800975b1524fee8d3937341d47b00f",
      "fcfb887ae9eb44b096f6731dbe4d5da2",
      "18c132f112944e209235ef586dff5fba"
     ]
    },
    "colab_type": "code",
    "executionInfo": {
     "elapsed": 3614,
     "status": "ok",
     "timestamp": 1591358623004,
     "user": {
      "displayName": "Zechen Li",
      "photoUrl": "",
      "userId": "04932019008574349632"
     },
     "user_tz": 420
    },
    "id": "-4Hh453JFs7h",
    "outputId": "ee853b29-8fa2-432b-a322-49ca0e695dc8"
   },
   "outputs": [
    {
     "name": "stderr",
     "output_type": "stream",
     "text": [
      "INFO:simpletransformers.classification.classification_model: Features loaded from cache at cache_dir/cached_dev_xlnet_128_2_113\n"
     ]
    },
    {
     "data": {
      "application/vnd.jupyter.widget-view+json": {
       "model_id": "b7184c85808e49d6b2a5e9d0b93190a0",
       "version_major": 2,
       "version_minor": 0
      },
      "text/plain": [
       "HBox(children=(FloatProgress(value=0.0, max=15.0), HTML(value='')))"
      ]
     },
     "metadata": {
      "tags": []
     },
     "output_type": "display_data"
    },
    {
     "name": "stderr",
     "output_type": "stream",
     "text": [
      "INFO:simpletransformers.classification.classification_model:{'mcc': 0.9444595400934477, 'tp': 70, 'tn': 40, 'fp': 0, 'fn': 3, 'acc': 0.9734513274336283, 'f1_score': 0.9790209790209791, 'eval_loss': 0.12109338343143464}\n"
     ]
    },
    {
     "name": "stdout",
     "output_type": "stream",
     "text": [
      "\n",
      "result: {'mcc': 0.9444595400934477, 'tp': 70, 'tn': 40, 'fp': 0, 'fn': 3, 'acc': 0.9734513274336283, 'f1_score': 0.9790209790209791, 'eval_loss': 0.12109338343143464}\n"
     ]
    }
   ],
   "source": [
    "# Evaluate the model\n",
    "result, model_outputs, wrong_predictions = model.eval_model(eval_data, \n",
    "                                                            acc = sklearn.metrics.accuracy_score,\n",
    "                                                            f1_score = sklearn.metrics.f1_score)\n",
    "\n",
    "print(\"result:\", result)"
   ]
  },
  {
   "cell_type": "code",
   "execution_count": 13,
   "metadata": {
    "colab": {
     "base_uri": "https://localhost:8080/",
     "height": 149,
     "referenced_widgets": [
      "7153ce0629a5472a827ad422a779cf1f",
      "3a336228fcce400a9c80ee0a8104827d",
      "f7e27aa0fd544076afeebb300d4822e7",
      "714d4c2175254407afe13d0ce53cdc86",
      "29409eace4bf45d4b723bf338db94df1",
      "c0574f841f1544a9b21b949bf96911a1",
      "6f8b13de99cf4fb1aedf755270c2b935",
      "8988ff28b7334e60939df07c00579746",
      "66a669142df84116b1664a54e81d1c57",
      "6ecf04d52cc1421db5872704fbaba2ab",
      "c0bb3be9f8ca41e1ab8992c56bb0931a",
      "7842d50be347461f850f567ecec81d21",
      "cabc7fcc68ae475d8741ffd80dbbcf15",
      "5015abb4d0f44d5387fee91cb4301717",
      "0e73ca5932ca458abe3eeb24073e6d9f",
      "8365ea8eacd94c12b5167ec45def1ec7"
     ]
    },
    "colab_type": "code",
    "executionInfo": {
     "elapsed": 976,
     "status": "ok",
     "timestamp": 1591359108823,
     "user": {
      "displayName": "Zechen Li",
      "photoUrl": "",
      "userId": "04932019008574349632"
     },
     "user_tz": 420
    },
    "id": "wRrKmZaFFs7l",
    "outputId": "6eb89d73-2039-4bcb-e298-7bc3ec576e35"
   },
   "outputs": [
    {
     "name": "stderr",
     "output_type": "stream",
     "text": [
      "INFO:simpletransformers.classification.classification_model: Converting to features started. Cache is not used.\n"
     ]
    },
    {
     "data": {
      "application/vnd.jupyter.widget-view+json": {
       "model_id": "7153ce0629a5472a827ad422a779cf1f",
       "version_major": 2,
       "version_minor": 0
      },
      "text/plain": [
       "HBox(children=(FloatProgress(value=0.0, max=6.0), HTML(value='')))"
      ]
     },
     "metadata": {
      "tags": []
     },
     "output_type": "display_data"
    },
    {
     "name": "stdout",
     "output_type": "stream",
     "text": [
      "\n"
     ]
    },
    {
     "data": {
      "application/vnd.jupyter.widget-view+json": {
       "model_id": "66a669142df84116b1664a54e81d1c57",
       "version_major": 2,
       "version_minor": 0
      },
      "text/plain": [
       "HBox(children=(FloatProgress(value=0.0, max=1.0), HTML(value='')))"
      ]
     },
     "metadata": {
      "tags": []
     },
     "output_type": "display_data"
    },
    {
     "name": "stdout",
     "output_type": "stream",
     "text": [
      "\n",
      "[0 0 0 1 0 1]\n"
     ]
    }
   ],
   "source": [
    "predictions, raw_outputs = model.predict([[\"In China , wearing masks , enhanced testing and public building closures haven’t succeeded in reducing the incidence of cases , compared to social distancing .\", \"wearing masks\"],\n",
    "                                          [\"In China , wearing masks , enhanced testing and public building closures haven’t succeeded in reducing the incidence of cases , compared to social distancing .\", \"enhanced testing\"],\n",
    "                                          [\"In China , wearing masks , enhanced testing and public building closures haven’t succeeded in reducing the incidence of cases , compared to social distancing .\", \"public building closures\"],\n",
    "                                          [\"In China , wearing masks , enhanced testing and public building closures haven’t succeeded in reducing the incidence of cases , compared to social distancing .\", \"social distancing\"],\n",
    "                                          ['Wearing a mask is the worst way to prevent the virus , but using hand sanitizer is effective .', 'Wearing masks'],\n",
    "                                          ['Wearing a mask is the worst way to prevent the virus , but using hand sanitizer is effective .', 'hand sanitizer']])\n",
    "print(predictions)\n"
   ]
  }
 ],
 "metadata": {
  "accelerator": "GPU",
  "colab": {
   "name": "sentiment.ipynb",
   "provenance": []
  },
  "kernelspec": {
   "display_name": "Python 3",
   "language": "python",
   "name": "python3"
  },
  "language_info": {
   "codemirror_mode": {
    "name": "ipython",
    "version": 3
   },
   "file_extension": ".py",
   "mimetype": "text/x-python",
   "name": "python",
   "nbconvert_exporter": "python",
   "pygments_lexer": "ipython3",
   "version": "3.7.6"
  },
  "toc": {
   "base_numbering": 1,
   "nav_menu": {},
   "number_sections": true,
   "sideBar": true,
   "skip_h1_title": false,
   "title_cell": "Table of Contents",
   "title_sidebar": "Contents",
   "toc_cell": false,
   "toc_position": {},
   "toc_section_display": true,
   "toc_window_display": false
  },
  "varInspector": {
   "cols": {
    "lenName": 16,
    "lenType": 16,
    "lenVar": 40
   },
   "kernels_config": {
    "python": {
     "delete_cmd_postfix": "",
     "delete_cmd_prefix": "del ",
     "library": "var_list.py",
     "varRefreshCmd": "print(var_dic_list())"
    },
    "r": {
     "delete_cmd_postfix": ") ",
     "delete_cmd_prefix": "rm(",
     "library": "var_list.r",
     "varRefreshCmd": "cat(var_dic_list()) "
    }
   },
   "types_to_exclude": [
    "module",
    "function",
    "builtin_function_or_method",
    "instance",
    "_Feature"
   ],
   "window_display": false
  },
  "widgets": {
   "application/vnd.jupyter.widget-state+json": {
    "08e006df5b994a11b112c2176734bdb7": {
     "model_module": "@jupyter-widgets/controls",
     "model_name": "FloatProgressModel",
     "state": {
      "_dom_classes": [],
      "_model_module": "@jupyter-widgets/controls",
      "_model_module_version": "1.5.0",
      "_model_name": "FloatProgressModel",
      "_view_count": null,
      "_view_module": "@jupyter-widgets/controls",
      "_view_module_version": "1.5.0",
      "_view_name": "ProgressView",
      "bar_style": "success",
      "description": "Current iteration: 100%",
      "description_tooltip": null,
      "layout": "IPY_MODEL_dc71c536590c40eb95baa70c99ce785d",
      "max": 22,
      "min": 0,
      "orientation": "horizontal",
      "style": "IPY_MODEL_30c53512daa5421a8975037471ce0a83",
      "value": 22
     }
    },
    "0a3be80232ee4ec2a76a4a89862161e4": {
     "model_module": "@jupyter-widgets/base",
     "model_name": "LayoutModel",
     "state": {
      "_model_module": "@jupyter-widgets/base",
      "_model_module_version": "1.2.0",
      "_model_name": "LayoutModel",
      "_view_count": null,
      "_view_module": "@jupyter-widgets/base",
      "_view_module_version": "1.2.0",
      "_view_name": "LayoutView",
      "align_content": null,
      "align_items": null,
      "align_self": null,
      "border": null,
      "bottom": null,
      "display": null,
      "flex": null,
      "flex_flow": null,
      "grid_area": null,
      "grid_auto_columns": null,
      "grid_auto_flow": null,
      "grid_auto_rows": null,
      "grid_column": null,
      "grid_gap": null,
      "grid_row": null,
      "grid_template_areas": null,
      "grid_template_columns": null,
      "grid_template_rows": null,
      "height": null,
      "justify_content": null,
      "justify_items": null,
      "left": null,
      "margin": null,
      "max_height": null,
      "max_width": null,
      "min_height": null,
      "min_width": null,
      "object_fit": null,
      "object_position": null,
      "order": null,
      "overflow": null,
      "overflow_x": null,
      "overflow_y": null,
      "padding": null,
      "right": null,
      "top": null,
      "visibility": null,
      "width": null
     }
    },
    "0bf0d5c82e304d25b8a5c8ba01e28095": {
     "model_module": "@jupyter-widgets/base",
     "model_name": "LayoutModel",
     "state": {
      "_model_module": "@jupyter-widgets/base",
      "_model_module_version": "1.2.0",
      "_model_name": "LayoutModel",
      "_view_count": null,
      "_view_module": "@jupyter-widgets/base",
      "_view_module_version": "1.2.0",
      "_view_name": "LayoutView",
      "align_content": null,
      "align_items": null,
      "align_self": null,
      "border": null,
      "bottom": null,
      "display": null,
      "flex": null,
      "flex_flow": null,
      "grid_area": null,
      "grid_auto_columns": null,
      "grid_auto_flow": null,
      "grid_auto_rows": null,
      "grid_column": null,
      "grid_gap": null,
      "grid_row": null,
      "grid_template_areas": null,
      "grid_template_columns": null,
      "grid_template_rows": null,
      "height": null,
      "justify_content": null,
      "justify_items": null,
      "left": null,
      "margin": null,
      "max_height": null,
      "max_width": null,
      "min_height": null,
      "min_width": null,
      "object_fit": null,
      "object_position": null,
      "order": null,
      "overflow": null,
      "overflow_x": null,
      "overflow_y": null,
      "padding": null,
      "right": null,
      "top": null,
      "visibility": null,
      "width": null
     }
    },
    "0c6e18ce31d2448fb762eb805bb07f4a": {
     "model_module": "@jupyter-widgets/controls",
     "model_name": "HTMLModel",
     "state": {
      "_dom_classes": [],
      "_model_module": "@jupyter-widgets/controls",
      "_model_module_version": "1.5.0",
      "_model_name": "HTMLModel",
      "_view_count": null,
      "_view_module": "@jupyter-widgets/controls",
      "_view_module_version": "1.5.0",
      "_view_name": "HTMLView",
      "description": "",
      "description_tooltip": null,
      "layout": "IPY_MODEL_eaab0182200341cdabe131076d51cc01",
      "placeholder": "​",
      "style": "IPY_MODEL_38549aced9c5476db0b208408a075e65",
      "value": " 5/5 [18:10&lt;00:00, 218.11s/it]"
     }
    },
    "0e73ca5932ca458abe3eeb24073e6d9f": {
     "model_module": "@jupyter-widgets/controls",
     "model_name": "DescriptionStyleModel",
     "state": {
      "_model_module": "@jupyter-widgets/controls",
      "_model_module_version": "1.5.0",
      "_model_name": "DescriptionStyleModel",
      "_view_count": null,
      "_view_module": "@jupyter-widgets/base",
      "_view_module_version": "1.2.0",
      "_view_name": "StyleView",
      "description_width": ""
     }
    },
    "0eef7e0f9da747108df2c5c872ddaad2": {
     "model_module": "@jupyter-widgets/base",
     "model_name": "LayoutModel",
     "state": {
      "_model_module": "@jupyter-widgets/base",
      "_model_module_version": "1.2.0",
      "_model_name": "LayoutModel",
      "_view_count": null,
      "_view_module": "@jupyter-widgets/base",
      "_view_module_version": "1.2.0",
      "_view_name": "LayoutView",
      "align_content": null,
      "align_items": null,
      "align_self": null,
      "border": null,
      "bottom": null,
      "display": null,
      "flex": null,
      "flex_flow": null,
      "grid_area": null,
      "grid_auto_columns": null,
      "grid_auto_flow": null,
      "grid_auto_rows": null,
      "grid_column": null,
      "grid_gap": null,
      "grid_row": null,
      "grid_template_areas": null,
      "grid_template_columns": null,
      "grid_template_rows": null,
      "height": null,
      "justify_content": null,
      "justify_items": null,
      "left": null,
      "margin": null,
      "max_height": null,
      "max_width": null,
      "min_height": null,
      "min_width": null,
      "object_fit": null,
      "object_position": null,
      "order": null,
      "overflow": null,
      "overflow_x": null,
      "overflow_y": null,
      "padding": null,
      "right": null,
      "top": null,
      "visibility": null,
      "width": null
     }
    },
    "167de78a97b44078ba693691dbd487ae": {
     "model_module": "@jupyter-widgets/controls",
     "model_name": "HTMLModel",
     "state": {
      "_dom_classes": [],
      "_model_module": "@jupyter-widgets/controls",
      "_model_module_version": "1.5.0",
      "_model_name": "HTMLModel",
      "_view_count": null,
      "_view_module": "@jupyter-widgets/controls",
      "_view_module_version": "1.5.0",
      "_view_name": "HTMLView",
      "description": "",
      "description_tooltip": null,
      "layout": "IPY_MODEL_0a3be80232ee4ec2a76a4a89862161e4",
      "placeholder": "​",
      "style": "IPY_MODEL_ff4e2282ef1c4227a4aa51458d63197c",
      "value": " 22/22 [01:51&lt;00:00,  5.08s/it]"
     }
    },
    "18c132f112944e209235ef586dff5fba": {
     "model_module": "@jupyter-widgets/base",
     "model_name": "LayoutModel",
     "state": {
      "_model_module": "@jupyter-widgets/base",
      "_model_module_version": "1.2.0",
      "_model_name": "LayoutModel",
      "_view_count": null,
      "_view_module": "@jupyter-widgets/base",
      "_view_module_version": "1.2.0",
      "_view_name": "LayoutView",
      "align_content": null,
      "align_items": null,
      "align_self": null,
      "border": null,
      "bottom": null,
      "display": null,
      "flex": null,
      "flex_flow": null,
      "grid_area": null,
      "grid_auto_columns": null,
      "grid_auto_flow": null,
      "grid_auto_rows": null,
      "grid_column": null,
      "grid_gap": null,
      "grid_row": null,
      "grid_template_areas": null,
      "grid_template_columns": null,
      "grid_template_rows": null,
      "height": null,
      "justify_content": null,
      "justify_items": null,
      "left": null,
      "margin": null,
      "max_height": null,
      "max_width": null,
      "min_height": null,
      "min_width": null,
      "object_fit": null,
      "object_position": null,
      "order": null,
      "overflow": null,
      "overflow_x": null,
      "overflow_y": null,
      "padding": null,
      "right": null,
      "top": null,
      "visibility": null,
      "width": null
     }
    },
    "1a7509cf48c04b359d3275469e942018": {
     "model_module": "@jupyter-widgets/controls",
     "model_name": "HTMLModel",
     "state": {
      "_dom_classes": [],
      "_model_module": "@jupyter-widgets/controls",
      "_model_module_version": "1.5.0",
      "_model_name": "HTMLModel",
      "_view_count": null,
      "_view_module": "@jupyter-widgets/controls",
      "_view_module_version": "1.5.0",
      "_view_name": "HTMLView",
      "description": "",
      "description_tooltip": null,
      "layout": "IPY_MODEL_18c132f112944e209235ef586dff5fba",
      "placeholder": "​",
      "style": "IPY_MODEL_fcfb887ae9eb44b096f6731dbe4d5da2",
      "value": " 15/15 [05:37&lt;00:00, 22.49s/it]"
     }
    },
    "25ff0ddc48134cf3ad6fd75856538c10": {
     "model_module": "@jupyter-widgets/base",
     "model_name": "LayoutModel",
     "state": {
      "_model_module": "@jupyter-widgets/base",
      "_model_module_version": "1.2.0",
      "_model_name": "LayoutModel",
      "_view_count": null,
      "_view_module": "@jupyter-widgets/base",
      "_view_module_version": "1.2.0",
      "_view_name": "LayoutView",
      "align_content": null,
      "align_items": null,
      "align_self": null,
      "border": null,
      "bottom": null,
      "display": null,
      "flex": null,
      "flex_flow": null,
      "grid_area": null,
      "grid_auto_columns": null,
      "grid_auto_flow": null,
      "grid_auto_rows": null,
      "grid_column": null,
      "grid_gap": null,
      "grid_row": null,
      "grid_template_areas": null,
      "grid_template_columns": null,
      "grid_template_rows": null,
      "height": null,
      "justify_content": null,
      "justify_items": null,
      "left": null,
      "margin": null,
      "max_height": null,
      "max_width": null,
      "min_height": null,
      "min_width": null,
      "object_fit": null,
      "object_position": null,
      "order": null,
      "overflow": null,
      "overflow_x": null,
      "overflow_y": null,
      "padding": null,
      "right": null,
      "top": null,
      "visibility": null,
      "width": null
     }
    },
    "280e84e0c24c48d5a1e4a742e5e5950a": {
     "model_module": "@jupyter-widgets/base",
     "model_name": "LayoutModel",
     "state": {
      "_model_module": "@jupyter-widgets/base",
      "_model_module_version": "1.2.0",
      "_model_name": "LayoutModel",
      "_view_count": null,
      "_view_module": "@jupyter-widgets/base",
      "_view_module_version": "1.2.0",
      "_view_name": "LayoutView",
      "align_content": null,
      "align_items": null,
      "align_self": null,
      "border": null,
      "bottom": null,
      "display": null,
      "flex": null,
      "flex_flow": null,
      "grid_area": null,
      "grid_auto_columns": null,
      "grid_auto_flow": null,
      "grid_auto_rows": null,
      "grid_column": null,
      "grid_gap": null,
      "grid_row": null,
      "grid_template_areas": null,
      "grid_template_columns": null,
      "grid_template_rows": null,
      "height": null,
      "justify_content": null,
      "justify_items": null,
      "left": null,
      "margin": null,
      "max_height": null,
      "max_width": null,
      "min_height": null,
      "min_width": null,
      "object_fit": null,
      "object_position": null,
      "order": null,
      "overflow": null,
      "overflow_x": null,
      "overflow_y": null,
      "padding": null,
      "right": null,
      "top": null,
      "visibility": null,
      "width": null
     }
    },
    "29409eace4bf45d4b723bf338db94df1": {
     "model_module": "@jupyter-widgets/controls",
     "model_name": "ProgressStyleModel",
     "state": {
      "_model_module": "@jupyter-widgets/controls",
      "_model_module_version": "1.5.0",
      "_model_name": "ProgressStyleModel",
      "_view_count": null,
      "_view_module": "@jupyter-widgets/base",
      "_view_module_version": "1.2.0",
      "_view_name": "StyleView",
      "bar_color": null,
      "description_width": "initial"
     }
    },
    "2972dad076c64bfd812150ef95093bb9": {
     "model_module": "@jupyter-widgets/base",
     "model_name": "LayoutModel",
     "state": {
      "_model_module": "@jupyter-widgets/base",
      "_model_module_version": "1.2.0",
      "_model_name": "LayoutModel",
      "_view_count": null,
      "_view_module": "@jupyter-widgets/base",
      "_view_module_version": "1.2.0",
      "_view_name": "LayoutView",
      "align_content": null,
      "align_items": null,
      "align_self": null,
      "border": null,
      "bottom": null,
      "display": null,
      "flex": null,
      "flex_flow": null,
      "grid_area": null,
      "grid_auto_columns": null,
      "grid_auto_flow": null,
      "grid_auto_rows": null,
      "grid_column": null,
      "grid_gap": null,
      "grid_row": null,
      "grid_template_areas": null,
      "grid_template_columns": null,
      "grid_template_rows": null,
      "height": null,
      "justify_content": null,
      "justify_items": null,
      "left": null,
      "margin": null,
      "max_height": null,
      "max_width": null,
      "min_height": null,
      "min_width": null,
      "object_fit": null,
      "object_position": null,
      "order": null,
      "overflow": null,
      "overflow_x": null,
      "overflow_y": null,
      "padding": null,
      "right": null,
      "top": null,
      "visibility": null,
      "width": null
     }
    },
    "2aefa327c4e74ceea38f5432d465aafe": {
     "model_module": "@jupyter-widgets/controls",
     "model_name": "HTMLModel",
     "state": {
      "_dom_classes": [],
      "_model_module": "@jupyter-widgets/controls",
      "_model_module_version": "1.5.0",
      "_model_name": "HTMLModel",
      "_view_count": null,
      "_view_module": "@jupyter-widgets/controls",
      "_view_module_version": "1.5.0",
      "_view_name": "HTMLView",
      "description": "",
      "description_tooltip": null,
      "layout": "IPY_MODEL_f4b2b9c8360945708bd7c9de25150d03",
      "placeholder": "​",
      "style": "IPY_MODEL_bc4664c269414e198989c3f09572e342",
      "value": " 22/22 [03:27&lt;00:00,  9.41s/it]"
     }
    },
    "2bfeb2aac41f4360b70d657050ee8bd6": {
     "model_module": "@jupyter-widgets/controls",
     "model_name": "HBoxModel",
     "state": {
      "_dom_classes": [],
      "_model_module": "@jupyter-widgets/controls",
      "_model_module_version": "1.5.0",
      "_model_name": "HBoxModel",
      "_view_count": null,
      "_view_module": "@jupyter-widgets/controls",
      "_view_module_version": "1.5.0",
      "_view_name": "HBoxView",
      "box_style": "",
      "children": [
       "IPY_MODEL_75cd78123d0b4833bd269009061f5b52",
       "IPY_MODEL_2aefa327c4e74ceea38f5432d465aafe"
      ],
      "layout": "IPY_MODEL_b32bb016cf70407f8398cc085e65a288"
     }
    },
    "2c32b3b93e0b4ab8afefe3cabc6b211a": {
     "model_module": "@jupyter-widgets/controls",
     "model_name": "HBoxModel",
     "state": {
      "_dom_classes": [],
      "_model_module": "@jupyter-widgets/controls",
      "_model_module_version": "1.5.0",
      "_model_name": "HBoxModel",
      "_view_count": null,
      "_view_module": "@jupyter-widgets/controls",
      "_view_module_version": "1.5.0",
      "_view_name": "HBoxView",
      "box_style": "",
      "children": [
       "IPY_MODEL_68136147460c43109f32bbba9993f126",
       "IPY_MODEL_829672430edd4abfb755d955f4a0f4b5"
      ],
      "layout": "IPY_MODEL_65df0de7e4084ef883ebddef762be552"
     }
    },
    "30c53512daa5421a8975037471ce0a83": {
     "model_module": "@jupyter-widgets/controls",
     "model_name": "ProgressStyleModel",
     "state": {
      "_model_module": "@jupyter-widgets/controls",
      "_model_module_version": "1.5.0",
      "_model_name": "ProgressStyleModel",
      "_view_count": null,
      "_view_module": "@jupyter-widgets/base",
      "_view_module_version": "1.2.0",
      "_view_name": "StyleView",
      "bar_color": null,
      "description_width": "initial"
     }
    },
    "315f5552305744b782e24c568bffd8ed": {
     "model_module": "@jupyter-widgets/base",
     "model_name": "LayoutModel",
     "state": {
      "_model_module": "@jupyter-widgets/base",
      "_model_module_version": "1.2.0",
      "_model_name": "LayoutModel",
      "_view_count": null,
      "_view_module": "@jupyter-widgets/base",
      "_view_module_version": "1.2.0",
      "_view_name": "LayoutView",
      "align_content": null,
      "align_items": null,
      "align_self": null,
      "border": null,
      "bottom": null,
      "display": null,
      "flex": null,
      "flex_flow": null,
      "grid_area": null,
      "grid_auto_columns": null,
      "grid_auto_flow": null,
      "grid_auto_rows": null,
      "grid_column": null,
      "grid_gap": null,
      "grid_row": null,
      "grid_template_areas": null,
      "grid_template_columns": null,
      "grid_template_rows": null,
      "height": null,
      "justify_content": null,
      "justify_items": null,
      "left": null,
      "margin": null,
      "max_height": null,
      "max_width": null,
      "min_height": null,
      "min_width": null,
      "object_fit": null,
      "object_position": null,
      "order": null,
      "overflow": null,
      "overflow_x": null,
      "overflow_y": null,
      "padding": null,
      "right": null,
      "top": null,
      "visibility": null,
      "width": null
     }
    },
    "31b2c7a25c3541f9a7470b6c2e5e54b8": {
     "model_module": "@jupyter-widgets/controls",
     "model_name": "HTMLModel",
     "state": {
      "_dom_classes": [],
      "_model_module": "@jupyter-widgets/controls",
      "_model_module_version": "1.5.0",
      "_model_name": "HTMLModel",
      "_view_count": null,
      "_view_module": "@jupyter-widgets/controls",
      "_view_module_version": "1.5.0",
      "_view_name": "HTMLView",
      "description": "",
      "description_tooltip": null,
      "layout": "IPY_MODEL_2972dad076c64bfd812150ef95093bb9",
      "placeholder": "​",
      "style": "IPY_MODEL_c839900c001e4e5a99e8ab9d97fa2c8d",
      "value": " 22/22 [03:35&lt;00:00,  9.77s/it]"
     }
    },
    "38549aced9c5476db0b208408a075e65": {
     "model_module": "@jupyter-widgets/controls",
     "model_name": "DescriptionStyleModel",
     "state": {
      "_model_module": "@jupyter-widgets/controls",
      "_model_module_version": "1.5.0",
      "_model_name": "DescriptionStyleModel",
      "_view_count": null,
      "_view_module": "@jupyter-widgets/base",
      "_view_module_version": "1.2.0",
      "_view_name": "StyleView",
      "description_width": ""
     }
    },
    "3a336228fcce400a9c80ee0a8104827d": {
     "model_module": "@jupyter-widgets/base",
     "model_name": "LayoutModel",
     "state": {
      "_model_module": "@jupyter-widgets/base",
      "_model_module_version": "1.2.0",
      "_model_name": "LayoutModel",
      "_view_count": null,
      "_view_module": "@jupyter-widgets/base",
      "_view_module_version": "1.2.0",
      "_view_name": "LayoutView",
      "align_content": null,
      "align_items": null,
      "align_self": null,
      "border": null,
      "bottom": null,
      "display": null,
      "flex": null,
      "flex_flow": null,
      "grid_area": null,
      "grid_auto_columns": null,
      "grid_auto_flow": null,
      "grid_auto_rows": null,
      "grid_column": null,
      "grid_gap": null,
      "grid_row": null,
      "grid_template_areas": null,
      "grid_template_columns": null,
      "grid_template_rows": null,
      "height": null,
      "justify_content": null,
      "justify_items": null,
      "left": null,
      "margin": null,
      "max_height": null,
      "max_width": null,
      "min_height": null,
      "min_width": null,
      "object_fit": null,
      "object_position": null,
      "order": null,
      "overflow": null,
      "overflow_x": null,
      "overflow_y": null,
      "padding": null,
      "right": null,
      "top": null,
      "visibility": null,
      "width": null
     }
    },
    "3daae2f083694f33a984762b81316b9f": {
     "model_module": "@jupyter-widgets/controls",
     "model_name": "ProgressStyleModel",
     "state": {
      "_model_module": "@jupyter-widgets/controls",
      "_model_module_version": "1.5.0",
      "_model_name": "ProgressStyleModel",
      "_view_count": null,
      "_view_module": "@jupyter-widgets/base",
      "_view_module_version": "1.2.0",
      "_view_name": "StyleView",
      "bar_color": null,
      "description_width": "initial"
     }
    },
    "48a0a934178541ef9f9ce33224582b61": {
     "model_module": "@jupyter-widgets/controls",
     "model_name": "ProgressStyleModel",
     "state": {
      "_model_module": "@jupyter-widgets/controls",
      "_model_module_version": "1.5.0",
      "_model_name": "ProgressStyleModel",
      "_view_count": null,
      "_view_module": "@jupyter-widgets/base",
      "_view_module_version": "1.2.0",
      "_view_name": "StyleView",
      "bar_color": null,
      "description_width": "initial"
     }
    },
    "493af39181d54602b75b8811a0382166": {
     "model_module": "@jupyter-widgets/controls",
     "model_name": "ProgressStyleModel",
     "state": {
      "_model_module": "@jupyter-widgets/controls",
      "_model_module_version": "1.5.0",
      "_model_name": "ProgressStyleModel",
      "_view_count": null,
      "_view_module": "@jupyter-widgets/base",
      "_view_module_version": "1.2.0",
      "_view_name": "StyleView",
      "bar_color": null,
      "description_width": "initial"
     }
    },
    "5015abb4d0f44d5387fee91cb4301717": {
     "model_module": "@jupyter-widgets/base",
     "model_name": "LayoutModel",
     "state": {
      "_model_module": "@jupyter-widgets/base",
      "_model_module_version": "1.2.0",
      "_model_name": "LayoutModel",
      "_view_count": null,
      "_view_module": "@jupyter-widgets/base",
      "_view_module_version": "1.2.0",
      "_view_name": "LayoutView",
      "align_content": null,
      "align_items": null,
      "align_self": null,
      "border": null,
      "bottom": null,
      "display": null,
      "flex": null,
      "flex_flow": null,
      "grid_area": null,
      "grid_auto_columns": null,
      "grid_auto_flow": null,
      "grid_auto_rows": null,
      "grid_column": null,
      "grid_gap": null,
      "grid_row": null,
      "grid_template_areas": null,
      "grid_template_columns": null,
      "grid_template_rows": null,
      "height": null,
      "justify_content": null,
      "justify_items": null,
      "left": null,
      "margin": null,
      "max_height": null,
      "max_width": null,
      "min_height": null,
      "min_width": null,
      "object_fit": null,
      "object_position": null,
      "order": null,
      "overflow": null,
      "overflow_x": null,
      "overflow_y": null,
      "padding": null,
      "right": null,
      "top": null,
      "visibility": null,
      "width": null
     }
    },
    "61769fc8bc354c3caa5159ab74334bc0": {
     "model_module": "@jupyter-widgets/controls",
     "model_name": "ProgressStyleModel",
     "state": {
      "_model_module": "@jupyter-widgets/controls",
      "_model_module_version": "1.5.0",
      "_model_name": "ProgressStyleModel",
      "_view_count": null,
      "_view_module": "@jupyter-widgets/base",
      "_view_module_version": "1.2.0",
      "_view_name": "StyleView",
      "bar_color": null,
      "description_width": "initial"
     }
    },
    "65df0de7e4084ef883ebddef762be552": {
     "model_module": "@jupyter-widgets/base",
     "model_name": "LayoutModel",
     "state": {
      "_model_module": "@jupyter-widgets/base",
      "_model_module_version": "1.2.0",
      "_model_name": "LayoutModel",
      "_view_count": null,
      "_view_module": "@jupyter-widgets/base",
      "_view_module_version": "1.2.0",
      "_view_name": "LayoutView",
      "align_content": null,
      "align_items": null,
      "align_self": null,
      "border": null,
      "bottom": null,
      "display": null,
      "flex": null,
      "flex_flow": null,
      "grid_area": null,
      "grid_auto_columns": null,
      "grid_auto_flow": null,
      "grid_auto_rows": null,
      "grid_column": null,
      "grid_gap": null,
      "grid_row": null,
      "grid_template_areas": null,
      "grid_template_columns": null,
      "grid_template_rows": null,
      "height": null,
      "justify_content": null,
      "justify_items": null,
      "left": null,
      "margin": null,
      "max_height": null,
      "max_width": null,
      "min_height": null,
      "min_width": null,
      "object_fit": null,
      "object_position": null,
      "order": null,
      "overflow": null,
      "overflow_x": null,
      "overflow_y": null,
      "padding": null,
      "right": null,
      "top": null,
      "visibility": null,
      "width": null
     }
    },
    "66a669142df84116b1664a54e81d1c57": {
     "model_module": "@jupyter-widgets/controls",
     "model_name": "HBoxModel",
     "state": {
      "_dom_classes": [],
      "_model_module": "@jupyter-widgets/controls",
      "_model_module_version": "1.5.0",
      "_model_name": "HBoxModel",
      "_view_count": null,
      "_view_module": "@jupyter-widgets/controls",
      "_view_module_version": "1.5.0",
      "_view_name": "HBoxView",
      "box_style": "",
      "children": [
       "IPY_MODEL_c0bb3be9f8ca41e1ab8992c56bb0931a",
       "IPY_MODEL_7842d50be347461f850f567ecec81d21"
      ],
      "layout": "IPY_MODEL_6ecf04d52cc1421db5872704fbaba2ab"
     }
    },
    "68136147460c43109f32bbba9993f126": {
     "model_module": "@jupyter-widgets/controls",
     "model_name": "FloatProgressModel",
     "state": {
      "_dom_classes": [],
      "_model_module": "@jupyter-widgets/controls",
      "_model_module_version": "1.5.0",
      "_model_name": "FloatProgressModel",
      "_view_count": null,
      "_view_module": "@jupyter-widgets/controls",
      "_view_module_version": "1.5.0",
      "_view_name": "ProgressView",
      "bar_style": "success",
      "description": "Current iteration: 100%",
      "description_tooltip": null,
      "layout": "IPY_MODEL_b30d2e6d9719481bb432e359d10ce389",
      "max": 22,
      "min": 0,
      "orientation": "horizontal",
      "style": "IPY_MODEL_61769fc8bc354c3caa5159ab74334bc0",
      "value": 22
     }
    },
    "6adf39f4edfc4b9a91e1eda748121394": {
     "model_module": "@jupyter-widgets/controls",
     "model_name": "FloatProgressModel",
     "state": {
      "_dom_classes": [],
      "_model_module": "@jupyter-widgets/controls",
      "_model_module_version": "1.5.0",
      "_model_name": "FloatProgressModel",
      "_view_count": null,
      "_view_module": "@jupyter-widgets/controls",
      "_view_module_version": "1.5.0",
      "_view_name": "ProgressView",
      "bar_style": "success",
      "description": "100%",
      "description_tooltip": null,
      "layout": "IPY_MODEL_7410daa25274477cb444af4e9c363094",
      "max": 339,
      "min": 0,
      "orientation": "horizontal",
      "style": "IPY_MODEL_48a0a934178541ef9f9ce33224582b61",
      "value": 339
     }
    },
    "6e3753c60dde4acd894281eccbd6f9fb": {
     "model_module": "@jupyter-widgets/controls",
     "model_name": "DescriptionStyleModel",
     "state": {
      "_model_module": "@jupyter-widgets/controls",
      "_model_module_version": "1.5.0",
      "_model_name": "DescriptionStyleModel",
      "_view_count": null,
      "_view_module": "@jupyter-widgets/base",
      "_view_module_version": "1.2.0",
      "_view_name": "StyleView",
      "description_width": ""
     }
    },
    "6ecf04d52cc1421db5872704fbaba2ab": {
     "model_module": "@jupyter-widgets/base",
     "model_name": "LayoutModel",
     "state": {
      "_model_module": "@jupyter-widgets/base",
      "_model_module_version": "1.2.0",
      "_model_name": "LayoutModel",
      "_view_count": null,
      "_view_module": "@jupyter-widgets/base",
      "_view_module_version": "1.2.0",
      "_view_name": "LayoutView",
      "align_content": null,
      "align_items": null,
      "align_self": null,
      "border": null,
      "bottom": null,
      "display": null,
      "flex": null,
      "flex_flow": null,
      "grid_area": null,
      "grid_auto_columns": null,
      "grid_auto_flow": null,
      "grid_auto_rows": null,
      "grid_column": null,
      "grid_gap": null,
      "grid_row": null,
      "grid_template_areas": null,
      "grid_template_columns": null,
      "grid_template_rows": null,
      "height": null,
      "justify_content": null,
      "justify_items": null,
      "left": null,
      "margin": null,
      "max_height": null,
      "max_width": null,
      "min_height": null,
      "min_width": null,
      "object_fit": null,
      "object_position": null,
      "order": null,
      "overflow": null,
      "overflow_x": null,
      "overflow_y": null,
      "padding": null,
      "right": null,
      "top": null,
      "visibility": null,
      "width": null
     }
    },
    "6f2ef69dd1f2405dbd5d93d2e42fa938": {
     "model_module": "@jupyter-widgets/base",
     "model_name": "LayoutModel",
     "state": {
      "_model_module": "@jupyter-widgets/base",
      "_model_module_version": "1.2.0",
      "_model_name": "LayoutModel",
      "_view_count": null,
      "_view_module": "@jupyter-widgets/base",
      "_view_module_version": "1.2.0",
      "_view_name": "LayoutView",
      "align_content": null,
      "align_items": null,
      "align_self": null,
      "border": null,
      "bottom": null,
      "display": null,
      "flex": null,
      "flex_flow": null,
      "grid_area": null,
      "grid_auto_columns": null,
      "grid_auto_flow": null,
      "grid_auto_rows": null,
      "grid_column": null,
      "grid_gap": null,
      "grid_row": null,
      "grid_template_areas": null,
      "grid_template_columns": null,
      "grid_template_rows": null,
      "height": null,
      "justify_content": null,
      "justify_items": null,
      "left": null,
      "margin": null,
      "max_height": null,
      "max_width": null,
      "min_height": null,
      "min_width": null,
      "object_fit": null,
      "object_position": null,
      "order": null,
      "overflow": null,
      "overflow_x": null,
      "overflow_y": null,
      "padding": null,
      "right": null,
      "top": null,
      "visibility": null,
      "width": null
     }
    },
    "6f8b13de99cf4fb1aedf755270c2b935": {
     "model_module": "@jupyter-widgets/controls",
     "model_name": "DescriptionStyleModel",
     "state": {
      "_model_module": "@jupyter-widgets/controls",
      "_model_module_version": "1.5.0",
      "_model_name": "DescriptionStyleModel",
      "_view_count": null,
      "_view_module": "@jupyter-widgets/base",
      "_view_module_version": "1.2.0",
      "_view_name": "StyleView",
      "description_width": ""
     }
    },
    "714d4c2175254407afe13d0ce53cdc86": {
     "model_module": "@jupyter-widgets/controls",
     "model_name": "HTMLModel",
     "state": {
      "_dom_classes": [],
      "_model_module": "@jupyter-widgets/controls",
      "_model_module_version": "1.5.0",
      "_model_name": "HTMLModel",
      "_view_count": null,
      "_view_module": "@jupyter-widgets/controls",
      "_view_module_version": "1.5.0",
      "_view_name": "HTMLView",
      "description": "",
      "description_tooltip": null,
      "layout": "IPY_MODEL_8988ff28b7334e60939df07c00579746",
      "placeholder": "​",
      "style": "IPY_MODEL_6f8b13de99cf4fb1aedf755270c2b935",
      "value": " 6/6 [00:00&lt;00:00, 55.57it/s]"
     }
    },
    "7153ce0629a5472a827ad422a779cf1f": {
     "model_module": "@jupyter-widgets/controls",
     "model_name": "HBoxModel",
     "state": {
      "_dom_classes": [],
      "_model_module": "@jupyter-widgets/controls",
      "_model_module_version": "1.5.0",
      "_model_name": "HBoxModel",
      "_view_count": null,
      "_view_module": "@jupyter-widgets/controls",
      "_view_module_version": "1.5.0",
      "_view_name": "HBoxView",
      "box_style": "",
      "children": [
       "IPY_MODEL_f7e27aa0fd544076afeebb300d4822e7",
       "IPY_MODEL_714d4c2175254407afe13d0ce53cdc86"
      ],
      "layout": "IPY_MODEL_3a336228fcce400a9c80ee0a8104827d"
     }
    },
    "7410daa25274477cb444af4e9c363094": {
     "model_module": "@jupyter-widgets/base",
     "model_name": "LayoutModel",
     "state": {
      "_model_module": "@jupyter-widgets/base",
      "_model_module_version": "1.2.0",
      "_model_name": "LayoutModel",
      "_view_count": null,
      "_view_module": "@jupyter-widgets/base",
      "_view_module_version": "1.2.0",
      "_view_name": "LayoutView",
      "align_content": null,
      "align_items": null,
      "align_self": null,
      "border": null,
      "bottom": null,
      "display": null,
      "flex": null,
      "flex_flow": null,
      "grid_area": null,
      "grid_auto_columns": null,
      "grid_auto_flow": null,
      "grid_auto_rows": null,
      "grid_column": null,
      "grid_gap": null,
      "grid_row": null,
      "grid_template_areas": null,
      "grid_template_columns": null,
      "grid_template_rows": null,
      "height": null,
      "justify_content": null,
      "justify_items": null,
      "left": null,
      "margin": null,
      "max_height": null,
      "max_width": null,
      "min_height": null,
      "min_width": null,
      "object_fit": null,
      "object_position": null,
      "order": null,
      "overflow": null,
      "overflow_x": null,
      "overflow_y": null,
      "padding": null,
      "right": null,
      "top": null,
      "visibility": null,
      "width": null
     }
    },
    "75cd78123d0b4833bd269009061f5b52": {
     "model_module": "@jupyter-widgets/controls",
     "model_name": "FloatProgressModel",
     "state": {
      "_dom_classes": [],
      "_model_module": "@jupyter-widgets/controls",
      "_model_module_version": "1.5.0",
      "_model_name": "FloatProgressModel",
      "_view_count": null,
      "_view_module": "@jupyter-widgets/controls",
      "_view_module_version": "1.5.0",
      "_view_name": "ProgressView",
      "bar_style": "success",
      "description": "Current iteration: 100%",
      "description_tooltip": null,
      "layout": "IPY_MODEL_25ff0ddc48134cf3ad6fd75856538c10",
      "max": 22,
      "min": 0,
      "orientation": "horizontal",
      "style": "IPY_MODEL_b7c0ee7789974172b8949113e07a0e21",
      "value": 22
     }
    },
    "76f9796430a34bf489842a1a2fb223cb": {
     "model_module": "@jupyter-widgets/controls",
     "model_name": "FloatProgressModel",
     "state": {
      "_dom_classes": [],
      "_model_module": "@jupyter-widgets/controls",
      "_model_module_version": "1.5.0",
      "_model_name": "FloatProgressModel",
      "_view_count": null,
      "_view_module": "@jupyter-widgets/controls",
      "_view_module_version": "1.5.0",
      "_view_name": "ProgressView",
      "bar_style": "success",
      "description": "Current iteration: 100%",
      "description_tooltip": null,
      "layout": "IPY_MODEL_a5be60db419c4509881be8c96ddcc5a4",
      "max": 22,
      "min": 0,
      "orientation": "horizontal",
      "style": "IPY_MODEL_b51b3d42b95f4d3b8809fb95e23682a2",
      "value": 22
     }
    },
    "772fa547e7d74c7eacbee37e180f7309": {
     "model_module": "@jupyter-widgets/controls",
     "model_name": "DescriptionStyleModel",
     "state": {
      "_model_module": "@jupyter-widgets/controls",
      "_model_module_version": "1.5.0",
      "_model_name": "DescriptionStyleModel",
      "_view_count": null,
      "_view_module": "@jupyter-widgets/base",
      "_view_module_version": "1.2.0",
      "_view_name": "StyleView",
      "description_width": ""
     }
    },
    "7842d50be347461f850f567ecec81d21": {
     "model_module": "@jupyter-widgets/controls",
     "model_name": "HTMLModel",
     "state": {
      "_dom_classes": [],
      "_model_module": "@jupyter-widgets/controls",
      "_model_module_version": "1.5.0",
      "_model_name": "HTMLModel",
      "_view_count": null,
      "_view_module": "@jupyter-widgets/controls",
      "_view_module_version": "1.5.0",
      "_view_name": "HTMLView",
      "description": "",
      "description_tooltip": null,
      "layout": "IPY_MODEL_8365ea8eacd94c12b5167ec45def1ec7",
      "placeholder": "​",
      "style": "IPY_MODEL_0e73ca5932ca458abe3eeb24073e6d9f",
      "value": " 1/1 [00:00&lt;00:00,  6.45it/s]"
     }
    },
    "7fe6cbd3f27543069e66e7330b7f1487": {
     "model_module": "@jupyter-widgets/controls",
     "model_name": "FloatProgressModel",
     "state": {
      "_dom_classes": [],
      "_model_module": "@jupyter-widgets/controls",
      "_model_module_version": "1.5.0",
      "_model_name": "FloatProgressModel",
      "_view_count": null,
      "_view_module": "@jupyter-widgets/controls",
      "_view_module_version": "1.5.0",
      "_view_name": "ProgressView",
      "bar_style": "success",
      "description": "Epoch: 100%",
      "description_tooltip": null,
      "layout": "IPY_MODEL_f7b7044dbd724d5b88c5203f779b0455",
      "max": 5,
      "min": 0,
      "orientation": "horizontal",
      "style": "IPY_MODEL_3daae2f083694f33a984762b81316b9f",
      "value": 5
     }
    },
    "80ad8ba7a723460594d4fee6ad8db397": {
     "model_module": "@jupyter-widgets/controls",
     "model_name": "HBoxModel",
     "state": {
      "_dom_classes": [],
      "_model_module": "@jupyter-widgets/controls",
      "_model_module_version": "1.5.0",
      "_model_name": "HBoxModel",
      "_view_count": null,
      "_view_module": "@jupyter-widgets/controls",
      "_view_module_version": "1.5.0",
      "_view_name": "HBoxView",
      "box_style": "",
      "children": [
       "IPY_MODEL_08e006df5b994a11b112c2176734bdb7",
       "IPY_MODEL_ac02de6849804e309f478cefe7c23947"
      ],
      "layout": "IPY_MODEL_ad10621a13574940bfbf6082a753291c"
     }
    },
    "829672430edd4abfb755d955f4a0f4b5": {
     "model_module": "@jupyter-widgets/controls",
     "model_name": "HTMLModel",
     "state": {
      "_dom_classes": [],
      "_model_module": "@jupyter-widgets/controls",
      "_model_module_version": "1.5.0",
      "_model_name": "HTMLModel",
      "_view_count": null,
      "_view_module": "@jupyter-widgets/controls",
      "_view_module_version": "1.5.0",
      "_view_name": "HTMLView",
      "description": "",
      "description_tooltip": null,
      "layout": "IPY_MODEL_0bf0d5c82e304d25b8a5c8ba01e28095",
      "placeholder": "​",
      "style": "IPY_MODEL_772fa547e7d74c7eacbee37e180f7309",
      "value": " 22/22 [03:27&lt;00:00,  9.41s/it]"
     }
    },
    "8365ea8eacd94c12b5167ec45def1ec7": {
     "model_module": "@jupyter-widgets/base",
     "model_name": "LayoutModel",
     "state": {
      "_model_module": "@jupyter-widgets/base",
      "_model_module_version": "1.2.0",
      "_model_name": "LayoutModel",
      "_view_count": null,
      "_view_module": "@jupyter-widgets/base",
      "_view_module_version": "1.2.0",
      "_view_name": "LayoutView",
      "align_content": null,
      "align_items": null,
      "align_self": null,
      "border": null,
      "bottom": null,
      "display": null,
      "flex": null,
      "flex_flow": null,
      "grid_area": null,
      "grid_auto_columns": null,
      "grid_auto_flow": null,
      "grid_auto_rows": null,
      "grid_column": null,
      "grid_gap": null,
      "grid_row": null,
      "grid_template_areas": null,
      "grid_template_columns": null,
      "grid_template_rows": null,
      "height": null,
      "justify_content": null,
      "justify_items": null,
      "left": null,
      "margin": null,
      "max_height": null,
      "max_width": null,
      "min_height": null,
      "min_width": null,
      "object_fit": null,
      "object_position": null,
      "order": null,
      "overflow": null,
      "overflow_x": null,
      "overflow_y": null,
      "padding": null,
      "right": null,
      "top": null,
      "visibility": null,
      "width": null
     }
    },
    "8988ff28b7334e60939df07c00579746": {
     "model_module": "@jupyter-widgets/base",
     "model_name": "LayoutModel",
     "state": {
      "_model_module": "@jupyter-widgets/base",
      "_model_module_version": "1.2.0",
      "_model_name": "LayoutModel",
      "_view_count": null,
      "_view_module": "@jupyter-widgets/base",
      "_view_module_version": "1.2.0",
      "_view_name": "LayoutView",
      "align_content": null,
      "align_items": null,
      "align_self": null,
      "border": null,
      "bottom": null,
      "display": null,
      "flex": null,
      "flex_flow": null,
      "grid_area": null,
      "grid_auto_columns": null,
      "grid_auto_flow": null,
      "grid_auto_rows": null,
      "grid_column": null,
      "grid_gap": null,
      "grid_row": null,
      "grid_template_areas": null,
      "grid_template_columns": null,
      "grid_template_rows": null,
      "height": null,
      "justify_content": null,
      "justify_items": null,
      "left": null,
      "margin": null,
      "max_height": null,
      "max_width": null,
      "min_height": null,
      "min_width": null,
      "object_fit": null,
      "object_position": null,
      "order": null,
      "overflow": null,
      "overflow_x": null,
      "overflow_y": null,
      "padding": null,
      "right": null,
      "top": null,
      "visibility": null,
      "width": null
     }
    },
    "8c0b314800f44f17a40bfccf4d89b141": {
     "model_module": "@jupyter-widgets/controls",
     "model_name": "FloatProgressModel",
     "state": {
      "_dom_classes": [],
      "_model_module": "@jupyter-widgets/controls",
      "_model_module_version": "1.5.0",
      "_model_name": "FloatProgressModel",
      "_view_count": null,
      "_view_module": "@jupyter-widgets/controls",
      "_view_module_version": "1.5.0",
      "_view_name": "ProgressView",
      "bar_style": "success",
      "description": "Current iteration: 100%",
      "description_tooltip": null,
      "layout": "IPY_MODEL_315f5552305744b782e24c568bffd8ed",
      "max": 22,
      "min": 0,
      "orientation": "horizontal",
      "style": "IPY_MODEL_98047f198afc4f9c8e413d72ec5cb9f0",
      "value": 22
     }
    },
    "98047f198afc4f9c8e413d72ec5cb9f0": {
     "model_module": "@jupyter-widgets/controls",
     "model_name": "ProgressStyleModel",
     "state": {
      "_model_module": "@jupyter-widgets/controls",
      "_model_module_version": "1.5.0",
      "_model_name": "ProgressStyleModel",
      "_view_count": null,
      "_view_module": "@jupyter-widgets/base",
      "_view_module_version": "1.2.0",
      "_view_name": "StyleView",
      "bar_color": null,
      "description_width": "initial"
     }
    },
    "a12f8f70e91d47769c259f60403f06a0": {
     "model_module": "@jupyter-widgets/controls",
     "model_name": "HBoxModel",
     "state": {
      "_dom_classes": [],
      "_model_module": "@jupyter-widgets/controls",
      "_model_module_version": "1.5.0",
      "_model_name": "HBoxModel",
      "_view_count": null,
      "_view_module": "@jupyter-widgets/controls",
      "_view_module_version": "1.5.0",
      "_view_name": "HBoxView",
      "box_style": "",
      "children": [
       "IPY_MODEL_6adf39f4edfc4b9a91e1eda748121394",
       "IPY_MODEL_d75b352b39fe4fdba79a9401494b66ae"
      ],
      "layout": "IPY_MODEL_ebdc4d24e5de4881af255d7a2b8abf03"
     }
    },
    "a5be60db419c4509881be8c96ddcc5a4": {
     "model_module": "@jupyter-widgets/base",
     "model_name": "LayoutModel",
     "state": {
      "_model_module": "@jupyter-widgets/base",
      "_model_module_version": "1.2.0",
      "_model_name": "LayoutModel",
      "_view_count": null,
      "_view_module": "@jupyter-widgets/base",
      "_view_module_version": "1.2.0",
      "_view_name": "LayoutView",
      "align_content": null,
      "align_items": null,
      "align_self": null,
      "border": null,
      "bottom": null,
      "display": null,
      "flex": null,
      "flex_flow": null,
      "grid_area": null,
      "grid_auto_columns": null,
      "grid_auto_flow": null,
      "grid_auto_rows": null,
      "grid_column": null,
      "grid_gap": null,
      "grid_row": null,
      "grid_template_areas": null,
      "grid_template_columns": null,
      "grid_template_rows": null,
      "height": null,
      "justify_content": null,
      "justify_items": null,
      "left": null,
      "margin": null,
      "max_height": null,
      "max_width": null,
      "min_height": null,
      "min_width": null,
      "object_fit": null,
      "object_position": null,
      "order": null,
      "overflow": null,
      "overflow_x": null,
      "overflow_y": null,
      "padding": null,
      "right": null,
      "top": null,
      "visibility": null,
      "width": null
     }
    },
    "a70198ea9f6e4fdc83b0b1af50db74a5": {
     "model_module": "@jupyter-widgets/controls",
     "model_name": "HBoxModel",
     "state": {
      "_dom_classes": [],
      "_model_module": "@jupyter-widgets/controls",
      "_model_module_version": "1.5.0",
      "_model_name": "HBoxModel",
      "_view_count": null,
      "_view_module": "@jupyter-widgets/controls",
      "_view_module_version": "1.5.0",
      "_view_name": "HBoxView",
      "box_style": "",
      "children": [
       "IPY_MODEL_76f9796430a34bf489842a1a2fb223cb",
       "IPY_MODEL_31b2c7a25c3541f9a7470b6c2e5e54b8"
      ],
      "layout": "IPY_MODEL_c0e3f4afd840486d9872222885923503"
     }
    },
    "ac02de6849804e309f478cefe7c23947": {
     "model_module": "@jupyter-widgets/controls",
     "model_name": "HTMLModel",
     "state": {
      "_dom_classes": [],
      "_model_module": "@jupyter-widgets/controls",
      "_model_module_version": "1.5.0",
      "_model_name": "HTMLModel",
      "_view_count": null,
      "_view_module": "@jupyter-widgets/controls",
      "_view_module_version": "1.5.0",
      "_view_name": "HTMLView",
      "description": "",
      "description_tooltip": null,
      "layout": "IPY_MODEL_0eef7e0f9da747108df2c5c872ddaad2",
      "placeholder": "​",
      "style": "IPY_MODEL_6e3753c60dde4acd894281eccbd6f9fb",
      "value": " 22/22 [02:10&lt;00:00,  5.93s/it]"
     }
    },
    "ad10621a13574940bfbf6082a753291c": {
     "model_module": "@jupyter-widgets/base",
     "model_name": "LayoutModel",
     "state": {
      "_model_module": "@jupyter-widgets/base",
      "_model_module_version": "1.2.0",
      "_model_name": "LayoutModel",
      "_view_count": null,
      "_view_module": "@jupyter-widgets/base",
      "_view_module_version": "1.2.0",
      "_view_name": "LayoutView",
      "align_content": null,
      "align_items": null,
      "align_self": null,
      "border": null,
      "bottom": null,
      "display": null,
      "flex": null,
      "flex_flow": null,
      "grid_area": null,
      "grid_auto_columns": null,
      "grid_auto_flow": null,
      "grid_auto_rows": null,
      "grid_column": null,
      "grid_gap": null,
      "grid_row": null,
      "grid_template_areas": null,
      "grid_template_columns": null,
      "grid_template_rows": null,
      "height": null,
      "justify_content": null,
      "justify_items": null,
      "left": null,
      "margin": null,
      "max_height": null,
      "max_width": null,
      "min_height": null,
      "min_width": null,
      "object_fit": null,
      "object_position": null,
      "order": null,
      "overflow": null,
      "overflow_x": null,
      "overflow_y": null,
      "padding": null,
      "right": null,
      "top": null,
      "visibility": null,
      "width": null
     }
    },
    "b30d2e6d9719481bb432e359d10ce389": {
     "model_module": "@jupyter-widgets/base",
     "model_name": "LayoutModel",
     "state": {
      "_model_module": "@jupyter-widgets/base",
      "_model_module_version": "1.2.0",
      "_model_name": "LayoutModel",
      "_view_count": null,
      "_view_module": "@jupyter-widgets/base",
      "_view_module_version": "1.2.0",
      "_view_name": "LayoutView",
      "align_content": null,
      "align_items": null,
      "align_self": null,
      "border": null,
      "bottom": null,
      "display": null,
      "flex": null,
      "flex_flow": null,
      "grid_area": null,
      "grid_auto_columns": null,
      "grid_auto_flow": null,
      "grid_auto_rows": null,
      "grid_column": null,
      "grid_gap": null,
      "grid_row": null,
      "grid_template_areas": null,
      "grid_template_columns": null,
      "grid_template_rows": null,
      "height": null,
      "justify_content": null,
      "justify_items": null,
      "left": null,
      "margin": null,
      "max_height": null,
      "max_width": null,
      "min_height": null,
      "min_width": null,
      "object_fit": null,
      "object_position": null,
      "order": null,
      "overflow": null,
      "overflow_x": null,
      "overflow_y": null,
      "padding": null,
      "right": null,
      "top": null,
      "visibility": null,
      "width": null
     }
    },
    "b32bb016cf70407f8398cc085e65a288": {
     "model_module": "@jupyter-widgets/base",
     "model_name": "LayoutModel",
     "state": {
      "_model_module": "@jupyter-widgets/base",
      "_model_module_version": "1.2.0",
      "_model_name": "LayoutModel",
      "_view_count": null,
      "_view_module": "@jupyter-widgets/base",
      "_view_module_version": "1.2.0",
      "_view_name": "LayoutView",
      "align_content": null,
      "align_items": null,
      "align_self": null,
      "border": null,
      "bottom": null,
      "display": null,
      "flex": null,
      "flex_flow": null,
      "grid_area": null,
      "grid_auto_columns": null,
      "grid_auto_flow": null,
      "grid_auto_rows": null,
      "grid_column": null,
      "grid_gap": null,
      "grid_row": null,
      "grid_template_areas": null,
      "grid_template_columns": null,
      "grid_template_rows": null,
      "height": null,
      "justify_content": null,
      "justify_items": null,
      "left": null,
      "margin": null,
      "max_height": null,
      "max_width": null,
      "min_height": null,
      "min_width": null,
      "object_fit": null,
      "object_position": null,
      "order": null,
      "overflow": null,
      "overflow_x": null,
      "overflow_y": null,
      "padding": null,
      "right": null,
      "top": null,
      "visibility": null,
      "width": null
     }
    },
    "b51b3d42b95f4d3b8809fb95e23682a2": {
     "model_module": "@jupyter-widgets/controls",
     "model_name": "ProgressStyleModel",
     "state": {
      "_model_module": "@jupyter-widgets/controls",
      "_model_module_version": "1.5.0",
      "_model_name": "ProgressStyleModel",
      "_view_count": null,
      "_view_module": "@jupyter-widgets/base",
      "_view_module_version": "1.2.0",
      "_view_name": "StyleView",
      "bar_color": null,
      "description_width": "initial"
     }
    },
    "b7184c85808e49d6b2a5e9d0b93190a0": {
     "model_module": "@jupyter-widgets/controls",
     "model_name": "HBoxModel",
     "state": {
      "_dom_classes": [],
      "_model_module": "@jupyter-widgets/controls",
      "_model_module_version": "1.5.0",
      "_model_name": "HBoxModel",
      "_view_count": null,
      "_view_module": "@jupyter-widgets/controls",
      "_view_module_version": "1.5.0",
      "_view_name": "HBoxView",
      "box_style": "",
      "children": [
       "IPY_MODEL_fba3e219b04a438ab18e9922a8516b0a",
       "IPY_MODEL_1a7509cf48c04b359d3275469e942018"
      ],
      "layout": "IPY_MODEL_6f2ef69dd1f2405dbd5d93d2e42fa938"
     }
    },
    "b7c0ee7789974172b8949113e07a0e21": {
     "model_module": "@jupyter-widgets/controls",
     "model_name": "ProgressStyleModel",
     "state": {
      "_model_module": "@jupyter-widgets/controls",
      "_model_module_version": "1.5.0",
      "_model_name": "ProgressStyleModel",
      "_view_count": null,
      "_view_module": "@jupyter-widgets/base",
      "_view_module_version": "1.2.0",
      "_view_name": "StyleView",
      "bar_color": null,
      "description_width": "initial"
     }
    },
    "bc4664c269414e198989c3f09572e342": {
     "model_module": "@jupyter-widgets/controls",
     "model_name": "DescriptionStyleModel",
     "state": {
      "_model_module": "@jupyter-widgets/controls",
      "_model_module_version": "1.5.0",
      "_model_name": "DescriptionStyleModel",
      "_view_count": null,
      "_view_module": "@jupyter-widgets/base",
      "_view_module_version": "1.2.0",
      "_view_name": "StyleView",
      "description_width": ""
     }
    },
    "bf800975b1524fee8d3937341d47b00f": {
     "model_module": "@jupyter-widgets/base",
     "model_name": "LayoutModel",
     "state": {
      "_model_module": "@jupyter-widgets/base",
      "_model_module_version": "1.2.0",
      "_model_name": "LayoutModel",
      "_view_count": null,
      "_view_module": "@jupyter-widgets/base",
      "_view_module_version": "1.2.0",
      "_view_name": "LayoutView",
      "align_content": null,
      "align_items": null,
      "align_self": null,
      "border": null,
      "bottom": null,
      "display": null,
      "flex": null,
      "flex_flow": null,
      "grid_area": null,
      "grid_auto_columns": null,
      "grid_auto_flow": null,
      "grid_auto_rows": null,
      "grid_column": null,
      "grid_gap": null,
      "grid_row": null,
      "grid_template_areas": null,
      "grid_template_columns": null,
      "grid_template_rows": null,
      "height": null,
      "justify_content": null,
      "justify_items": null,
      "left": null,
      "margin": null,
      "max_height": null,
      "max_width": null,
      "min_height": null,
      "min_width": null,
      "object_fit": null,
      "object_position": null,
      "order": null,
      "overflow": null,
      "overflow_x": null,
      "overflow_y": null,
      "padding": null,
      "right": null,
      "top": null,
      "visibility": null,
      "width": null
     }
    },
    "c0574f841f1544a9b21b949bf96911a1": {
     "model_module": "@jupyter-widgets/base",
     "model_name": "LayoutModel",
     "state": {
      "_model_module": "@jupyter-widgets/base",
      "_model_module_version": "1.2.0",
      "_model_name": "LayoutModel",
      "_view_count": null,
      "_view_module": "@jupyter-widgets/base",
      "_view_module_version": "1.2.0",
      "_view_name": "LayoutView",
      "align_content": null,
      "align_items": null,
      "align_self": null,
      "border": null,
      "bottom": null,
      "display": null,
      "flex": null,
      "flex_flow": null,
      "grid_area": null,
      "grid_auto_columns": null,
      "grid_auto_flow": null,
      "grid_auto_rows": null,
      "grid_column": null,
      "grid_gap": null,
      "grid_row": null,
      "grid_template_areas": null,
      "grid_template_columns": null,
      "grid_template_rows": null,
      "height": null,
      "justify_content": null,
      "justify_items": null,
      "left": null,
      "margin": null,
      "max_height": null,
      "max_width": null,
      "min_height": null,
      "min_width": null,
      "object_fit": null,
      "object_position": null,
      "order": null,
      "overflow": null,
      "overflow_x": null,
      "overflow_y": null,
      "padding": null,
      "right": null,
      "top": null,
      "visibility": null,
      "width": null
     }
    },
    "c0bb3be9f8ca41e1ab8992c56bb0931a": {
     "model_module": "@jupyter-widgets/controls",
     "model_name": "FloatProgressModel",
     "state": {
      "_dom_classes": [],
      "_model_module": "@jupyter-widgets/controls",
      "_model_module_version": "1.5.0",
      "_model_name": "FloatProgressModel",
      "_view_count": null,
      "_view_module": "@jupyter-widgets/controls",
      "_view_module_version": "1.5.0",
      "_view_name": "ProgressView",
      "bar_style": "success",
      "description": "100%",
      "description_tooltip": null,
      "layout": "IPY_MODEL_5015abb4d0f44d5387fee91cb4301717",
      "max": 1,
      "min": 0,
      "orientation": "horizontal",
      "style": "IPY_MODEL_cabc7fcc68ae475d8741ffd80dbbcf15",
      "value": 1
     }
    },
    "c0e3f4afd840486d9872222885923503": {
     "model_module": "@jupyter-widgets/base",
     "model_name": "LayoutModel",
     "state": {
      "_model_module": "@jupyter-widgets/base",
      "_model_module_version": "1.2.0",
      "_model_name": "LayoutModel",
      "_view_count": null,
      "_view_module": "@jupyter-widgets/base",
      "_view_module_version": "1.2.0",
      "_view_name": "LayoutView",
      "align_content": null,
      "align_items": null,
      "align_self": null,
      "border": null,
      "bottom": null,
      "display": null,
      "flex": null,
      "flex_flow": null,
      "grid_area": null,
      "grid_auto_columns": null,
      "grid_auto_flow": null,
      "grid_auto_rows": null,
      "grid_column": null,
      "grid_gap": null,
      "grid_row": null,
      "grid_template_areas": null,
      "grid_template_columns": null,
      "grid_template_rows": null,
      "height": null,
      "justify_content": null,
      "justify_items": null,
      "left": null,
      "margin": null,
      "max_height": null,
      "max_width": null,
      "min_height": null,
      "min_width": null,
      "object_fit": null,
      "object_position": null,
      "order": null,
      "overflow": null,
      "overflow_x": null,
      "overflow_y": null,
      "padding": null,
      "right": null,
      "top": null,
      "visibility": null,
      "width": null
     }
    },
    "c839900c001e4e5a99e8ab9d97fa2c8d": {
     "model_module": "@jupyter-widgets/controls",
     "model_name": "DescriptionStyleModel",
     "state": {
      "_model_module": "@jupyter-widgets/controls",
      "_model_module_version": "1.5.0",
      "_model_name": "DescriptionStyleModel",
      "_view_count": null,
      "_view_module": "@jupyter-widgets/base",
      "_view_module_version": "1.2.0",
      "_view_name": "StyleView",
      "description_width": ""
     }
    },
    "cabc7fcc68ae475d8741ffd80dbbcf15": {
     "model_module": "@jupyter-widgets/controls",
     "model_name": "ProgressStyleModel",
     "state": {
      "_model_module": "@jupyter-widgets/controls",
      "_model_module_version": "1.5.0",
      "_model_name": "ProgressStyleModel",
      "_view_count": null,
      "_view_module": "@jupyter-widgets/base",
      "_view_module_version": "1.2.0",
      "_view_name": "StyleView",
      "bar_color": null,
      "description_width": "initial"
     }
    },
    "cd42c876e3c64d95b75fbedff8a9a152": {
     "model_module": "@jupyter-widgets/controls",
     "model_name": "DescriptionStyleModel",
     "state": {
      "_model_module": "@jupyter-widgets/controls",
      "_model_module_version": "1.5.0",
      "_model_name": "DescriptionStyleModel",
      "_view_count": null,
      "_view_module": "@jupyter-widgets/base",
      "_view_module_version": "1.2.0",
      "_view_name": "StyleView",
      "description_width": ""
     }
    },
    "d75b352b39fe4fdba79a9401494b66ae": {
     "model_module": "@jupyter-widgets/controls",
     "model_name": "HTMLModel",
     "state": {
      "_dom_classes": [],
      "_model_module": "@jupyter-widgets/controls",
      "_model_module_version": "1.5.0",
      "_model_name": "HTMLModel",
      "_view_count": null,
      "_view_module": "@jupyter-widgets/controls",
      "_view_module_version": "1.5.0",
      "_view_name": "HTMLView",
      "description": "",
      "description_tooltip": null,
      "layout": "IPY_MODEL_d9cf8e63cae74d50ad45f75ced93f86e",
      "placeholder": "​",
      "style": "IPY_MODEL_cd42c876e3c64d95b75fbedff8a9a152",
      "value": " 339/339 [00:00&lt;00:00, 1911.36it/s]"
     }
    },
    "d862655c58664d2c9f7c4f223fa7d53c": {
     "model_module": "@jupyter-widgets/base",
     "model_name": "LayoutModel",
     "state": {
      "_model_module": "@jupyter-widgets/base",
      "_model_module_version": "1.2.0",
      "_model_name": "LayoutModel",
      "_view_count": null,
      "_view_module": "@jupyter-widgets/base",
      "_view_module_version": "1.2.0",
      "_view_name": "LayoutView",
      "align_content": null,
      "align_items": null,
      "align_self": null,
      "border": null,
      "bottom": null,
      "display": null,
      "flex": null,
      "flex_flow": null,
      "grid_area": null,
      "grid_auto_columns": null,
      "grid_auto_flow": null,
      "grid_auto_rows": null,
      "grid_column": null,
      "grid_gap": null,
      "grid_row": null,
      "grid_template_areas": null,
      "grid_template_columns": null,
      "grid_template_rows": null,
      "height": null,
      "justify_content": null,
      "justify_items": null,
      "left": null,
      "margin": null,
      "max_height": null,
      "max_width": null,
      "min_height": null,
      "min_width": null,
      "object_fit": null,
      "object_position": null,
      "order": null,
      "overflow": null,
      "overflow_x": null,
      "overflow_y": null,
      "padding": null,
      "right": null,
      "top": null,
      "visibility": null,
      "width": null
     }
    },
    "d9cf8e63cae74d50ad45f75ced93f86e": {
     "model_module": "@jupyter-widgets/base",
     "model_name": "LayoutModel",
     "state": {
      "_model_module": "@jupyter-widgets/base",
      "_model_module_version": "1.2.0",
      "_model_name": "LayoutModel",
      "_view_count": null,
      "_view_module": "@jupyter-widgets/base",
      "_view_module_version": "1.2.0",
      "_view_name": "LayoutView",
      "align_content": null,
      "align_items": null,
      "align_self": null,
      "border": null,
      "bottom": null,
      "display": null,
      "flex": null,
      "flex_flow": null,
      "grid_area": null,
      "grid_auto_columns": null,
      "grid_auto_flow": null,
      "grid_auto_rows": null,
      "grid_column": null,
      "grid_gap": null,
      "grid_row": null,
      "grid_template_areas": null,
      "grid_template_columns": null,
      "grid_template_rows": null,
      "height": null,
      "justify_content": null,
      "justify_items": null,
      "left": null,
      "margin": null,
      "max_height": null,
      "max_width": null,
      "min_height": null,
      "min_width": null,
      "object_fit": null,
      "object_position": null,
      "order": null,
      "overflow": null,
      "overflow_x": null,
      "overflow_y": null,
      "padding": null,
      "right": null,
      "top": null,
      "visibility": null,
      "width": null
     }
    },
    "dc71c536590c40eb95baa70c99ce785d": {
     "model_module": "@jupyter-widgets/base",
     "model_name": "LayoutModel",
     "state": {
      "_model_module": "@jupyter-widgets/base",
      "_model_module_version": "1.2.0",
      "_model_name": "LayoutModel",
      "_view_count": null,
      "_view_module": "@jupyter-widgets/base",
      "_view_module_version": "1.2.0",
      "_view_name": "LayoutView",
      "align_content": null,
      "align_items": null,
      "align_self": null,
      "border": null,
      "bottom": null,
      "display": null,
      "flex": null,
      "flex_flow": null,
      "grid_area": null,
      "grid_auto_columns": null,
      "grid_auto_flow": null,
      "grid_auto_rows": null,
      "grid_column": null,
      "grid_gap": null,
      "grid_row": null,
      "grid_template_areas": null,
      "grid_template_columns": null,
      "grid_template_rows": null,
      "height": null,
      "justify_content": null,
      "justify_items": null,
      "left": null,
      "margin": null,
      "max_height": null,
      "max_width": null,
      "min_height": null,
      "min_width": null,
      "object_fit": null,
      "object_position": null,
      "order": null,
      "overflow": null,
      "overflow_x": null,
      "overflow_y": null,
      "padding": null,
      "right": null,
      "top": null,
      "visibility": null,
      "width": null
     }
    },
    "dd81e27de7a948b0b841056375127c41": {
     "model_module": "@jupyter-widgets/controls",
     "model_name": "HBoxModel",
     "state": {
      "_dom_classes": [],
      "_model_module": "@jupyter-widgets/controls",
      "_model_module_version": "1.5.0",
      "_model_name": "HBoxModel",
      "_view_count": null,
      "_view_module": "@jupyter-widgets/controls",
      "_view_module_version": "1.5.0",
      "_view_name": "HBoxView",
      "box_style": "",
      "children": [
       "IPY_MODEL_7fe6cbd3f27543069e66e7330b7f1487",
       "IPY_MODEL_0c6e18ce31d2448fb762eb805bb07f4a"
      ],
      "layout": "IPY_MODEL_d862655c58664d2c9f7c4f223fa7d53c"
     }
    },
    "eaab0182200341cdabe131076d51cc01": {
     "model_module": "@jupyter-widgets/base",
     "model_name": "LayoutModel",
     "state": {
      "_model_module": "@jupyter-widgets/base",
      "_model_module_version": "1.2.0",
      "_model_name": "LayoutModel",
      "_view_count": null,
      "_view_module": "@jupyter-widgets/base",
      "_view_module_version": "1.2.0",
      "_view_name": "LayoutView",
      "align_content": null,
      "align_items": null,
      "align_self": null,
      "border": null,
      "bottom": null,
      "display": null,
      "flex": null,
      "flex_flow": null,
      "grid_area": null,
      "grid_auto_columns": null,
      "grid_auto_flow": null,
      "grid_auto_rows": null,
      "grid_column": null,
      "grid_gap": null,
      "grid_row": null,
      "grid_template_areas": null,
      "grid_template_columns": null,
      "grid_template_rows": null,
      "height": null,
      "justify_content": null,
      "justify_items": null,
      "left": null,
      "margin": null,
      "max_height": null,
      "max_width": null,
      "min_height": null,
      "min_width": null,
      "object_fit": null,
      "object_position": null,
      "order": null,
      "overflow": null,
      "overflow_x": null,
      "overflow_y": null,
      "padding": null,
      "right": null,
      "top": null,
      "visibility": null,
      "width": null
     }
    },
    "ebdc4d24e5de4881af255d7a2b8abf03": {
     "model_module": "@jupyter-widgets/base",
     "model_name": "LayoutModel",
     "state": {
      "_model_module": "@jupyter-widgets/base",
      "_model_module_version": "1.2.0",
      "_model_name": "LayoutModel",
      "_view_count": null,
      "_view_module": "@jupyter-widgets/base",
      "_view_module_version": "1.2.0",
      "_view_name": "LayoutView",
      "align_content": null,
      "align_items": null,
      "align_self": null,
      "border": null,
      "bottom": null,
      "display": null,
      "flex": null,
      "flex_flow": null,
      "grid_area": null,
      "grid_auto_columns": null,
      "grid_auto_flow": null,
      "grid_auto_rows": null,
      "grid_column": null,
      "grid_gap": null,
      "grid_row": null,
      "grid_template_areas": null,
      "grid_template_columns": null,
      "grid_template_rows": null,
      "height": null,
      "justify_content": null,
      "justify_items": null,
      "left": null,
      "margin": null,
      "max_height": null,
      "max_width": null,
      "min_height": null,
      "min_width": null,
      "object_fit": null,
      "object_position": null,
      "order": null,
      "overflow": null,
      "overflow_x": null,
      "overflow_y": null,
      "padding": null,
      "right": null,
      "top": null,
      "visibility": null,
      "width": null
     }
    },
    "f2c6ec346a68415981704f9ca909ab8c": {
     "model_module": "@jupyter-widgets/controls",
     "model_name": "HBoxModel",
     "state": {
      "_dom_classes": [],
      "_model_module": "@jupyter-widgets/controls",
      "_model_module_version": "1.5.0",
      "_model_name": "HBoxModel",
      "_view_count": null,
      "_view_module": "@jupyter-widgets/controls",
      "_view_module_version": "1.5.0",
      "_view_name": "HBoxView",
      "box_style": "",
      "children": [
       "IPY_MODEL_8c0b314800f44f17a40bfccf4d89b141",
       "IPY_MODEL_167de78a97b44078ba693691dbd487ae"
      ],
      "layout": "IPY_MODEL_280e84e0c24c48d5a1e4a742e5e5950a"
     }
    },
    "f4b2b9c8360945708bd7c9de25150d03": {
     "model_module": "@jupyter-widgets/base",
     "model_name": "LayoutModel",
     "state": {
      "_model_module": "@jupyter-widgets/base",
      "_model_module_version": "1.2.0",
      "_model_name": "LayoutModel",
      "_view_count": null,
      "_view_module": "@jupyter-widgets/base",
      "_view_module_version": "1.2.0",
      "_view_name": "LayoutView",
      "align_content": null,
      "align_items": null,
      "align_self": null,
      "border": null,
      "bottom": null,
      "display": null,
      "flex": null,
      "flex_flow": null,
      "grid_area": null,
      "grid_auto_columns": null,
      "grid_auto_flow": null,
      "grid_auto_rows": null,
      "grid_column": null,
      "grid_gap": null,
      "grid_row": null,
      "grid_template_areas": null,
      "grid_template_columns": null,
      "grid_template_rows": null,
      "height": null,
      "justify_content": null,
      "justify_items": null,
      "left": null,
      "margin": null,
      "max_height": null,
      "max_width": null,
      "min_height": null,
      "min_width": null,
      "object_fit": null,
      "object_position": null,
      "order": null,
      "overflow": null,
      "overflow_x": null,
      "overflow_y": null,
      "padding": null,
      "right": null,
      "top": null,
      "visibility": null,
      "width": null
     }
    },
    "f7b7044dbd724d5b88c5203f779b0455": {
     "model_module": "@jupyter-widgets/base",
     "model_name": "LayoutModel",
     "state": {
      "_model_module": "@jupyter-widgets/base",
      "_model_module_version": "1.2.0",
      "_model_name": "LayoutModel",
      "_view_count": null,
      "_view_module": "@jupyter-widgets/base",
      "_view_module_version": "1.2.0",
      "_view_name": "LayoutView",
      "align_content": null,
      "align_items": null,
      "align_self": null,
      "border": null,
      "bottom": null,
      "display": null,
      "flex": null,
      "flex_flow": null,
      "grid_area": null,
      "grid_auto_columns": null,
      "grid_auto_flow": null,
      "grid_auto_rows": null,
      "grid_column": null,
      "grid_gap": null,
      "grid_row": null,
      "grid_template_areas": null,
      "grid_template_columns": null,
      "grid_template_rows": null,
      "height": null,
      "justify_content": null,
      "justify_items": null,
      "left": null,
      "margin": null,
      "max_height": null,
      "max_width": null,
      "min_height": null,
      "min_width": null,
      "object_fit": null,
      "object_position": null,
      "order": null,
      "overflow": null,
      "overflow_x": null,
      "overflow_y": null,
      "padding": null,
      "right": null,
      "top": null,
      "visibility": null,
      "width": null
     }
    },
    "f7e27aa0fd544076afeebb300d4822e7": {
     "model_module": "@jupyter-widgets/controls",
     "model_name": "FloatProgressModel",
     "state": {
      "_dom_classes": [],
      "_model_module": "@jupyter-widgets/controls",
      "_model_module_version": "1.5.0",
      "_model_name": "FloatProgressModel",
      "_view_count": null,
      "_view_module": "@jupyter-widgets/controls",
      "_view_module_version": "1.5.0",
      "_view_name": "ProgressView",
      "bar_style": "success",
      "description": "100%",
      "description_tooltip": null,
      "layout": "IPY_MODEL_c0574f841f1544a9b21b949bf96911a1",
      "max": 6,
      "min": 0,
      "orientation": "horizontal",
      "style": "IPY_MODEL_29409eace4bf45d4b723bf338db94df1",
      "value": 6
     }
    },
    "fba3e219b04a438ab18e9922a8516b0a": {
     "model_module": "@jupyter-widgets/controls",
     "model_name": "FloatProgressModel",
     "state": {
      "_dom_classes": [],
      "_model_module": "@jupyter-widgets/controls",
      "_model_module_version": "1.5.0",
      "_model_name": "FloatProgressModel",
      "_view_count": null,
      "_view_module": "@jupyter-widgets/controls",
      "_view_module_version": "1.5.0",
      "_view_name": "ProgressView",
      "bar_style": "success",
      "description": "100%",
      "description_tooltip": null,
      "layout": "IPY_MODEL_bf800975b1524fee8d3937341d47b00f",
      "max": 15,
      "min": 0,
      "orientation": "horizontal",
      "style": "IPY_MODEL_493af39181d54602b75b8811a0382166",
      "value": 15
     }
    },
    "fcfb887ae9eb44b096f6731dbe4d5da2": {
     "model_module": "@jupyter-widgets/controls",
     "model_name": "DescriptionStyleModel",
     "state": {
      "_model_module": "@jupyter-widgets/controls",
      "_model_module_version": "1.5.0",
      "_model_name": "DescriptionStyleModel",
      "_view_count": null,
      "_view_module": "@jupyter-widgets/base",
      "_view_module_version": "1.2.0",
      "_view_name": "StyleView",
      "description_width": ""
     }
    },
    "ff4e2282ef1c4227a4aa51458d63197c": {
     "model_module": "@jupyter-widgets/controls",
     "model_name": "DescriptionStyleModel",
     "state": {
      "_model_module": "@jupyter-widgets/controls",
      "_model_module_version": "1.5.0",
      "_model_name": "DescriptionStyleModel",
      "_view_count": null,
      "_view_module": "@jupyter-widgets/base",
      "_view_module_version": "1.2.0",
      "_view_name": "StyleView",
      "description_width": ""
     }
    }
   }
  }
 },
 "nbformat": 4,
 "nbformat_minor": 1
}
