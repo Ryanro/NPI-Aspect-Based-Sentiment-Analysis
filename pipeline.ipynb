{
 "cells": [
  {
   "cell_type": "code",
   "execution_count": 80,
   "metadata": {},
   "outputs": [],
   "source": [
    "from simpletransformers.classification import ClassificationModel\n",
    "from simpletransformers.ner import NERModel\n",
    "from nltk.tokenize import sent_tokenize\n",
    "from nltk.tokenize import word_tokenize\n",
    "import pandas as pd\n",
    "import numpy as np"
   ]
  },
  {
   "cell_type": "markdown",
   "metadata": {},
   "source": [
    "1. prepare binary classification model"
   ]
  },
  {
   "cell_type": "code",
   "execution_count": 81,
   "metadata": {},
   "outputs": [],
   "source": [
    "train_args={\n",
    "    'fp16': False,\n",
    "    'sliding_window': True,\n",
    "    'reprocess_input_data': True,\n",
    "    'overwrite_output_dir': True,\n",
    "    \n",
    "    'evaluate_during_training': True,\n",
    "    'evaluate_during_training_steps': 4,\n",
    "    'logging_steps': 4,\n",
    "    'evaluate_during_training_verbose': True,\n",
    "\n",
    "    'num_train_epochs': 5,\n",
    "    \n",
    "    'learning_rate': 3.5e-5,\n",
    "    \n",
    "    'train_batch_size': 32,\n",
    "    'eval_batch_size': 8,\n",
    "    \n",
    "    'warmup_ratio': 0.1, \n",
    "    'warmup_steps': 14,\n",
    "\n",
    "    'weight_decay': 0.01,\n",
    "    \n",
    "    'wandb_project': \"NPI_binary\",\n",
    "    \n",
    "    'save_eval_checkpoints': False,\n",
    "    \"save_model_every_epoch\": False,\n",
    "    'use_cached_eval_features': True,\n",
    "    \n",
    "    'manual_seed': 1\n",
    "}\n",
    "\n",
    "binary_classifier_model = ClassificationModel('roberta', \n",
    "                                              './binary_classifier/outputs/', \n",
    "                                              use_cuda=False, \n",
    "                                              args=train_args)"
   ]
  },
  {
   "cell_type": "markdown",
   "metadata": {},
   "source": [
    "2. prepare NER model"
   ]
  },
  {
   "cell_type": "code",
   "execution_count": 82,
   "metadata": {},
   "outputs": [],
   "source": [
    "train_args={\n",
    "    'fp16': False,\n",
    "    'sliding_window': True,\n",
    "    'reprocess_input_data': True,\n",
    "    'overwrite_output_dir': True,\n",
    "    \n",
    "    'evaluate_during_training': True,\n",
    "    'evaluate_during_training_steps': 4,\n",
    "    'logging_steps': 4,\n",
    "    \n",
    "    'num_train_epochs': 5,\n",
    "    \n",
    "    'learning_rate':3.5e-5,\n",
    "    \n",
    "    'train_batch_size':8,\n",
    "    \n",
    "    'warmup_ratio': 0.1, \n",
    "    'warmup_steps':6,\n",
    "    \n",
    "    \"wandb_project\": \"NPI_NER\",\n",
    "    \n",
    "    'save_eval_checkpoints': False,\n",
    "    \"save_model_every_epoch\": False,\n",
    "    \"use_cached_eval_features\": True,\n",
    "  \n",
    "    \"manual_seed\": 1\n",
    "}\n",
    "\n",
    "ner_model = NERModel('bert', \n",
    "                     './NER/outputs/',\n",
    "                     use_cuda=False, \n",
    "                     args = train_args,labels = [\"O\", \"B\", \"I\"])"
   ]
  },
  {
   "cell_type": "markdown",
   "metadata": {},
   "source": [
    "3. prepare sentiment classification model"
   ]
  },
  {
   "cell_type": "code",
   "execution_count": 83,
   "metadata": {},
   "outputs": [],
   "source": [
    "train_args={\n",
    "    'fp16': False,\n",
    "    'reprocess_input_data': True,\n",
    "    'overwrite_output_dir': True,\n",
    "    \n",
    "    'evaluate_during_training': True,\n",
    "    'evaluate_during_training_steps': 4,\n",
    "    \"evaluate_during_training_verbose\": True,\n",
    "    'logging_steps':4,\n",
    "    \n",
    "    'num_train_epochs': 5,\n",
    "    \n",
    "    'learning_rate':3.5e-5,\n",
    "    \n",
    "    'train_batch_size':16,\n",
    "    \n",
    "    'warmup_ratio': 0.1, \n",
    "    'warmup_steps':16,\n",
    "\n",
    "    'weight_decay':0.001,\n",
    "\n",
    "    'gradient_accumulation_steps':2,\n",
    "    \n",
    "    \"wandb_project\": \"NPI_sentiment\",\n",
    "    \n",
    "    'save_eval_checkpoints': False,\n",
    "    \"save_model_every_epoch\": False,\n",
    "    \"use_cached_eval_features\": True,\n",
    "    \n",
    "    \"manual_seed\": 1\n",
    "}\n",
    " \n",
    "sentiment_model = ClassificationModel('xlnet', \n",
    "                                      './sentiment/outputs/',  \n",
    "                                      use_cuda=False,\n",
    "                                      args=train_args,num_labels=2)"
   ]
  },
  {
   "cell_type": "markdown",
   "metadata": {},
   "source": [
    "4. perform ABSA"
   ]
  },
  {
   "cell_type": "code",
   "execution_count": 88,
   "metadata": {},
   "outputs": [],
   "source": [
    "# 'This experiment could help us understand the relationship between social isolation, school closure and other non-medical interventions, and reducing the number of cases.'\n",
    "# given a long text\n",
    "text = \"As the current pandemic situation evolves, urges have been made to focus efforts toward examining the mental health status of the general population. \\\n",
    "This large-scale epidemiological investigation assesses the prevalence of depression and anxiety associated with the mitigation strategies aimed at impeding viral \\\n",
    "transmission chains during the COVID-19 pandemic. A representative sample of 10084 adults participated in the study. The results reveal that the globally ubiquitous \\\n",
    "mitigation strategies involving lockdowns, social distancing, quarantine, and isolation are associated with two to threefold increases in anxiety and depression symptoms. \\\n",
    "Risk factors and protective factors associated with these psychiatric symptoms were identified. Finally, factors associated with adherence rates to these mitigation strategies \\\n",
    "were investigated. The presented time-sensitive findings provide health-policy makers and government officials with a foundation for making informed decisions concerning the mental \\\n",
    "health impacts of the contemporaneously in-practice disease containment strategies, and suggests ways of increasing adherence to these protocols while simultaneously protecting the general \\\n",
    "public against detrimental mental health effects. Of importance, a variety of NPIs are contemporaneously in practice across countries in all continents, including lockdown strategies such as \\\n",
    "closure of schools, social distancing, quarantine, and isolation. Consequently, accompanied by the realization that the end of the crisis is nowhere near, a different dimension of public health \\\n",
    "has emerged to require urgent attention; namely the mental health impacts associated with the strategies implemented towards viral control during the COVID-19 pandemic. \\\n",
    "Research also shows that social distancing, enhanced testing and public building closures have succeeded in reducing the incidence of cases, compared to wearing masks. \\\n",
    "Don't implement border ban any more! Social distancing is the best choice! \\\n",
    "Social distance is as important as contact tracking.\"\n",
    "\n",
    "sentences = sent_tokenize(text)"
   ]
  },
  {
   "cell_type": "markdown",
   "metadata": {},
   "source": [
    "5. Using binary classifier to evaluate if sentence contains the evaluation of the specific NPI"
   ]
  },
  {
   "cell_type": "code",
   "execution_count": 89,
   "metadata": {},
   "outputs": [
    {
     "data": {
      "application/vnd.jupyter.widget-view+json": {
       "model_id": "bc92b65e27ce4d2180a9acc42c137302",
       "version_major": 2,
       "version_minor": 0
      },
      "text/plain": [
       "HBox(children=(FloatProgress(value=0.0, max=13.0), HTML(value='')))"
      ]
     },
     "metadata": {},
     "output_type": "display_data"
    },
    {
     "name": "stdout",
     "output_type": "stream",
     "text": [
      "\n"
     ]
    },
    {
     "data": {
      "application/vnd.jupyter.widget-view+json": {
       "model_id": "0a3ec32cfb324c2b8db30f22af6dde0a",
       "version_major": 2,
       "version_minor": 0
      },
      "text/plain": [
       "HBox(children=(FloatProgress(value=0.0, max=2.0), HTML(value='')))"
      ]
     },
     "metadata": {},
     "output_type": "display_data"
    },
    {
     "name": "stdout",
     "output_type": "stream",
     "text": [
      "\n",
      "['The results reveal that the globally ubiquitous mitigation strategies involving lockdowns, social distancing, quarantine, and isolation are associated with two to threefold increases in anxiety and depression symptoms.'\n",
      " 'Research also shows that social distancing, enhanced testing and public building closures have succeeded in reducing the incidence of cases, compared to wearing masks.'\n",
      " \"Don't implement border ban any more!\"\n",
      " 'Social distancing is the best choice!'\n",
      " 'Social distance is as important as contact tracking.']\n"
     ]
    }
   ],
   "source": [
    "binary_pred, output = binary_classifier_model.predict(sentences)\n",
    "sentence_df = pd.DataFrame({'sentence':sentences, 'binary_predict':binary_pred})\n",
    "predict_sentences = np.asarray(sentence_df[sentence_df['binary_predict'] == 1]['sentence'])\n",
    "\n",
    "print(predict_sentences)"
   ]
  },
  {
   "cell_type": "markdown",
   "metadata": {},
   "source": [
    "6. Using NER model to extract NPI name"
   ]
  },
  {
   "cell_type": "code",
   "execution_count": 90,
   "metadata": {},
   "outputs": [
    {
     "data": {
      "application/vnd.jupyter.widget-view+json": {
       "model_id": "5b5a55a9ad4a449984619a73e4c7f2da",
       "version_major": 2,
       "version_minor": 0
      },
      "text/plain": [
       "HBox(children=(FloatProgress(value=0.0, max=5.0), HTML(value='')))"
      ]
     },
     "metadata": {},
     "output_type": "display_data"
    },
    {
     "name": "stdout",
     "output_type": "stream",
     "text": [
      "\n"
     ]
    },
    {
     "data": {
      "application/vnd.jupyter.widget-view+json": {
       "model_id": "f8b738f9bd104b1999340ef5bd898ca2",
       "version_major": 2,
       "version_minor": 0
      },
      "text/plain": [
       "HBox(children=(FloatProgress(value=0.0, max=1.0), HTML(value='')))"
      ]
     },
     "metadata": {},
     "output_type": "display_data"
    },
    {
     "name": "stdout",
     "output_type": "stream",
     "text": [
      "\n",
      "[('The results reveal that the globally ubiquitous mitigation strategies involving lockdowns , social distancing , quarantine , and isolation are associated with two to threefold increases in anxiety and depression symptoms .', ['lockdowns', 'social distancing', 'quarantine', 'isolation']), ('Research also shows that social distancing , enhanced testing and public building closures have succeeded in reducing the incidence of cases , compared to wearing masks .', ['social distancing', 'enhanced testing', 'public building closures', 'wearing masks']), (\"Do n't implement border ban any more !\", ['border ban']), ('Social distancing is the best choice !', ['Social distancing']), ('Social distance is as important as contact tracking .', ['Social distance', 'contact tracking'])]\n"
     ]
    }
   ],
   "source": [
    "def modify_sentences(raw_sentences):\n",
    "    sentences = []\n",
    "    \n",
    "    for i in range(len(raw_sentences)):\n",
    "        i = word_tokenize(raw_sentences[i])\n",
    "        sentence = ' '.join(i)\n",
    "        sentences.append(sentence)\n",
    "        sentence = ''\n",
    "    \n",
    "    return sentences\n",
    "\n",
    "\n",
    "def get_prediction(predictions):\n",
    "    y_pred = []\n",
    "    \n",
    "    for i in predictions:\n",
    "        temp=[]\n",
    "        for j in list(i):\n",
    "            temp = temp + list(j.values())\n",
    "        y_pred.append(temp)\n",
    "        temp=[]\n",
    "        \n",
    "    return y_pred\n",
    "\n",
    "\n",
    "def extract_terms(sentences, y_pred):\n",
    "    result = [] # (sentence, [term1, term2, ...]) pairs\n",
    "    \n",
    "    for sentence, prediction in zip(sentences, y_pred):\n",
    "        words = sentence.split(' ')\n",
    "        terms_list = []\n",
    "        term = []\n",
    "        inside_term = False\n",
    "        for i in range(len(words) + 1):\n",
    "            if inside_term and (i == len(words) or prediction[i] == \"O\"):\n",
    "                terms_list.append(term)\n",
    "                term = []\n",
    "                inside_term = False\n",
    "                continue\n",
    "            elif i == len(words):\n",
    "                continue\n",
    "            elif inside_term and prediction[i] == \"B\": # B I B I O ...\n",
    "                terms_list.append(term)\n",
    "                term = []\n",
    "                term.append(words[i])\n",
    "            elif prediction[i] == \"B\":\n",
    "                term.append(words[i])\n",
    "                inside_term = True\n",
    "            elif inside_term and (prediction[i] == \"I\"):\n",
    "                term.append(words[i])\n",
    "            elif prediction[i] == \"I\": # O I O ...\n",
    "                continue\n",
    "            \n",
    "                \n",
    "    \n",
    "        terms_list = [' '.join(t) for t in terms_list]\n",
    "        result.append((sentence, terms_list))\n",
    "    \n",
    "    return result\n",
    "\n",
    "\n",
    "modified_sentences = modify_sentences(predict_sentences)\n",
    "NER_pred, _ = ner_model.predict(modified_sentences)\n",
    "y_pred = get_prediction(NER_pred)\n",
    "\n",
    "NER_sentences = extract_terms(modified_sentences, y_pred)\n",
    "\n",
    "print(NER_sentences)\n"
   ]
  },
  {
   "cell_type": "markdown",
   "metadata": {},
   "source": [
    "7. Judge sentiment polarity of NPI in each sentence"
   ]
  },
  {
   "cell_type": "code",
   "execution_count": 91,
   "metadata": {},
   "outputs": [
    {
     "data": {
      "text/html": [
       "<style>.container { width:100% !important; }</style>"
      ],
      "text/plain": [
       "<IPython.core.display.HTML object>"
      ]
     },
     "metadata": {},
     "output_type": "display_data"
    },
    {
     "data": {
      "application/vnd.jupyter.widget-view+json": {
       "model_id": "e259bc97c1da408989ba1837081b2ee6",
       "version_major": 2,
       "version_minor": 0
      },
      "text/plain": [
       "HBox(children=(FloatProgress(value=0.0, max=12.0), HTML(value='')))"
      ]
     },
     "metadata": {},
     "output_type": "display_data"
    },
    {
     "name": "stdout",
     "output_type": "stream",
     "text": [
      "\n"
     ]
    },
    {
     "data": {
      "application/vnd.jupyter.widget-view+json": {
       "model_id": "66a87927e27243429294d2f3c6fdd55d",
       "version_major": 2,
       "version_minor": 0
      },
      "text/plain": [
       "HBox(children=(FloatProgress(value=0.0, max=2.0), HTML(value='')))"
      ]
     },
     "metadata": {},
     "output_type": "display_data"
    },
    {
     "name": "stderr",
     "output_type": "stream",
     "text": [
      "/Users/zechenli/opt/anaconda3/lib/python3.7/site-packages/torch/nn/functional.py:1558: UserWarning: nn.functional.tanh is deprecated. Use torch.tanh instead.\n",
      "  warnings.warn(\"nn.functional.tanh is deprecated. Use torch.tanh instead.\")\n"
     ]
    },
    {
     "name": "stdout",
     "output_type": "stream",
     "text": [
      "\n"
     ]
    },
    {
     "data": {
      "text/html": [
       "<div>\n",
       "<style scoped>\n",
       "    .dataframe tbody tr th:only-of-type {\n",
       "        vertical-align: middle;\n",
       "    }\n",
       "\n",
       "    .dataframe tbody tr th {\n",
       "        vertical-align: top;\n",
       "    }\n",
       "\n",
       "    .dataframe thead th {\n",
       "        text-align: right;\n",
       "    }\n",
       "</style>\n",
       "<table border=\"1\" class=\"dataframe\">\n",
       "  <thead>\n",
       "    <tr style=\"text-align: right;\">\n",
       "      <th></th>\n",
       "      <th>sentence</th>\n",
       "      <th>term_pred</th>\n",
       "      <th>sentiment_pred</th>\n",
       "    </tr>\n",
       "  </thead>\n",
       "  <tbody>\n",
       "    <tr>\n",
       "      <th>0</th>\n",
       "      <td>The results reveal that the globally ubiquitou...</td>\n",
       "      <td>lockdowns</td>\n",
       "      <td>0</td>\n",
       "    </tr>\n",
       "    <tr>\n",
       "      <th>1</th>\n",
       "      <td>The results reveal that the globally ubiquitou...</td>\n",
       "      <td>social distancing</td>\n",
       "      <td>0</td>\n",
       "    </tr>\n",
       "    <tr>\n",
       "      <th>2</th>\n",
       "      <td>The results reveal that the globally ubiquitou...</td>\n",
       "      <td>quarantine</td>\n",
       "      <td>0</td>\n",
       "    </tr>\n",
       "    <tr>\n",
       "      <th>3</th>\n",
       "      <td>The results reveal that the globally ubiquitou...</td>\n",
       "      <td>isolation</td>\n",
       "      <td>0</td>\n",
       "    </tr>\n",
       "    <tr>\n",
       "      <th>4</th>\n",
       "      <td>Research also shows that social distancing , e...</td>\n",
       "      <td>social distancing</td>\n",
       "      <td>1</td>\n",
       "    </tr>\n",
       "    <tr>\n",
       "      <th>5</th>\n",
       "      <td>Research also shows that social distancing , e...</td>\n",
       "      <td>enhanced testing</td>\n",
       "      <td>1</td>\n",
       "    </tr>\n",
       "    <tr>\n",
       "      <th>6</th>\n",
       "      <td>Research also shows that social distancing , e...</td>\n",
       "      <td>public building closures</td>\n",
       "      <td>1</td>\n",
       "    </tr>\n",
       "    <tr>\n",
       "      <th>7</th>\n",
       "      <td>Research also shows that social distancing , e...</td>\n",
       "      <td>wearing masks</td>\n",
       "      <td>0</td>\n",
       "    </tr>\n",
       "    <tr>\n",
       "      <th>8</th>\n",
       "      <td>Do n't implement border ban any more !</td>\n",
       "      <td>border ban</td>\n",
       "      <td>0</td>\n",
       "    </tr>\n",
       "    <tr>\n",
       "      <th>9</th>\n",
       "      <td>Social distancing is the best choice !</td>\n",
       "      <td>Social distancing</td>\n",
       "      <td>1</td>\n",
       "    </tr>\n",
       "    <tr>\n",
       "      <th>10</th>\n",
       "      <td>Social distance is as important as contact tra...</td>\n",
       "      <td>Social distance</td>\n",
       "      <td>1</td>\n",
       "    </tr>\n",
       "    <tr>\n",
       "      <th>11</th>\n",
       "      <td>Social distance is as important as contact tra...</td>\n",
       "      <td>contact tracking</td>\n",
       "      <td>1</td>\n",
       "    </tr>\n",
       "  </tbody>\n",
       "</table>\n",
       "</div>"
      ],
      "text/plain": [
       "                                             sentence  \\\n",
       "0   The results reveal that the globally ubiquitou...   \n",
       "1   The results reveal that the globally ubiquitou...   \n",
       "2   The results reveal that the globally ubiquitou...   \n",
       "3   The results reveal that the globally ubiquitou...   \n",
       "4   Research also shows that social distancing , e...   \n",
       "5   Research also shows that social distancing , e...   \n",
       "6   Research also shows that social distancing , e...   \n",
       "7   Research also shows that social distancing , e...   \n",
       "8              Do n't implement border ban any more !   \n",
       "9              Social distancing is the best choice !   \n",
       "10  Social distance is as important as contact tra...   \n",
       "11  Social distance is as important as contact tra...   \n",
       "\n",
       "                   term_pred  sentiment_pred  \n",
       "0                  lockdowns               0  \n",
       "1          social distancing               0  \n",
       "2                 quarantine               0  \n",
       "3                  isolation               0  \n",
       "4          social distancing               1  \n",
       "5           enhanced testing               1  \n",
       "6   public building closures               1  \n",
       "7              wearing masks               0  \n",
       "8                 border ban               0  \n",
       "9          Social distancing               1  \n",
       "10           Social distance               1  \n",
       "11          contact tracking               1  "
      ]
     },
     "execution_count": 91,
     "metadata": {},
     "output_type": "execute_result"
    }
   ],
   "source": [
    "from IPython.core.display import display, HTML\n",
    "display(HTML(\"<style>.container { width:100% !important; }</style>\"))\n",
    "polarity_pred_input = []\n",
    "    \n",
    "for sentence, terms_list in NER_sentences:\n",
    "    for term in terms_list:\n",
    "        polarity_pred_input.append([sentence, term])\n",
    "        \n",
    "polarity_pred_df = pd.DataFrame(polarity_pred_input)\n",
    "polarity_pred_df.columns = ['sentence', 'term_pred']\n",
    "\n",
    "sentiment_pred, _ = sentiment_model.predict(polarity_pred_input)\n",
    "polarity_pred_df['sentiment_pred'] = sentiment_pred\n",
    "polarity_pred_df"
   ]
  },
  {
   "cell_type": "code",
   "execution_count": null,
   "metadata": {},
   "outputs": [],
   "source": []
  }
 ],
 "metadata": {
  "kernelspec": {
   "display_name": "Python 3",
   "language": "python",
   "name": "python3"
  },
  "language_info": {
   "codemirror_mode": {
    "name": "ipython",
    "version": 3
   },
   "file_extension": ".py",
   "mimetype": "text/x-python",
   "name": "python",
   "nbconvert_exporter": "python",
   "pygments_lexer": "ipython3",
   "version": "3.7.6"
  },
  "toc": {
   "base_numbering": 1,
   "nav_menu": {},
   "number_sections": true,
   "sideBar": true,
   "skip_h1_title": false,
   "title_cell": "Table of Contents",
   "title_sidebar": "Contents",
   "toc_cell": false,
   "toc_position": {},
   "toc_section_display": true,
   "toc_window_display": false
  },
  "varInspector": {
   "cols": {
    "lenName": 16,
    "lenType": 16,
    "lenVar": 40
   },
   "kernels_config": {
    "python": {
     "delete_cmd_postfix": "",
     "delete_cmd_prefix": "del ",
     "library": "var_list.py",
     "varRefreshCmd": "print(var_dic_list())"
    },
    "r": {
     "delete_cmd_postfix": ") ",
     "delete_cmd_prefix": "rm(",
     "library": "var_list.r",
     "varRefreshCmd": "cat(var_dic_list()) "
    }
   },
   "types_to_exclude": [
    "module",
    "function",
    "builtin_function_or_method",
    "instance",
    "_Feature"
   ],
   "window_display": false
  }
 },
 "nbformat": 4,
 "nbformat_minor": 4
}
